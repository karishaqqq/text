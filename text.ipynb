{
 "cells": [
  {
   "cell_type": "markdown",
   "metadata": {
    "toc": true
   },
   "source": [
    "<h1>Содержание<span class=\"tocSkip\"></span></h1>\n",
    "<div class=\"toc\"><ul class=\"toc-item\"><li><span><a href=\"#Подготовка\" data-toc-modified-id=\"Подготовка-1\"><span class=\"toc-item-num\">1&nbsp;&nbsp;</span>Подготовка</a></span></li><li><span><a href=\"#Обучение\" data-toc-modified-id=\"Обучение-2\"><span class=\"toc-item-num\">2&nbsp;&nbsp;</span>Обучение</a></span></li><li><span><a href=\"#Выводы\" data-toc-modified-id=\"Выводы-3\"><span class=\"toc-item-num\">3&nbsp;&nbsp;</span>Выводы</a></span></li><li><span><a href=\"#Чек-лист-проверки\" data-toc-modified-id=\"Чек-лист-проверки-4\"><span class=\"toc-item-num\">4&nbsp;&nbsp;</span>Чек-лист проверки</a></span></li></ul></div>"
   ]
  },
  {
   "cell_type": "markdown",
   "metadata": {},
   "source": [
    "# Проект для «Викишоп»"
   ]
  },
  {
   "cell_type": "markdown",
   "metadata": {},
   "source": [
    "Интернет-магазин «Викишоп» запускает новый сервис. Теперь пользователи могут редактировать и дополнять описания товаров, как в вики-сообществах. То есть клиенты предлагают свои правки и комментируют изменения других. Магазину нужен инструмент, который будет искать токсичные комментарии и отправлять их на модерацию. \n",
    "\n",
    "Обучите модель классифицировать комментарии на позитивные и негативные. В вашем распоряжении набор данных с разметкой о токсичности правок.\n",
    "\n",
    "Постройте модель со значением метрики качества *F1* не меньше 0.75. \n",
    "\n",
    "**Инструкция по выполнению проекта**\n",
    "\n",
    "1. Загрузите и подготовьте данные.\n",
    "2. Обучите разные модели. \n",
    "3. Сделайте выводы.\n",
    "\n",
    "Для выполнения проекта применять *BERT* необязательно, но вы можете попробовать.\n",
    "\n",
    "**Описание данных**\n",
    "\n",
    "Данные находятся в файле `toxic_comments.csv`. Столбец *text* в нём содержит текст комментария, а *toxic* — целевой признак."
   ]
  },
  {
   "cell_type": "markdown",
   "metadata": {},
   "source": [
    "## Подготовка"
   ]
  },
  {
   "cell_type": "code",
   "execution_count": 1,
   "metadata": {},
   "outputs": [],
   "source": [
    "#загрузим все необходимые библиотеки и инструменты\n",
    "import re\n",
    "import time\n",
    "import matplotlib.pyplot as plt\n",
    "import nltk\n",
    "from nltk.corpus import stopwords\n",
    "from nltk.stem.snowball import EnglishStemmer\n",
    "from nltk.tokenize import word_tokenize  \n",
    "import numpy as np\n",
    "import pandas as pd\n",
    "import seaborn as sns\n",
    "from sklearn.feature_extraction.text import CountVectorizer, TfidfVectorizer \n",
    "from sklearn.linear_model import LogisticRegression, SGDClassifier\n",
    "from sklearn.model_selection import train_test_split,cross_val_score, GridSearchCV\n",
    "from sklearn.pipeline import make_pipeline\n",
    "from sklearn.metrics import f1_score\n",
    "from sklearn.tree import DecisionTreeClassifier\n",
    "from sklearn.neighbors import KNeighborsClassifier"
   ]
  },
  {
   "cell_type": "markdown",
   "metadata": {},
   "source": [
    "Загрузим данные и ознакомимся с ними."
   ]
  },
  {
   "cell_type": "code",
   "execution_count": 2,
   "metadata": {},
   "outputs": [],
   "source": [
    "comments = pd.read_csv('/datasets/toxic_comments.csv')"
   ]
  },
  {
   "cell_type": "code",
   "execution_count": 3,
   "metadata": {},
   "outputs": [
    {
     "name": "stdout",
     "output_type": "stream",
     "text": [
      "<class 'pandas.core.frame.DataFrame'>\n",
      "RangeIndex: 159292 entries, 0 to 159291\n",
      "Data columns (total 3 columns):\n",
      " #   Column      Non-Null Count   Dtype \n",
      "---  ------      --------------   ----- \n",
      " 0   Unnamed: 0  159292 non-null  int64 \n",
      " 1   text        159292 non-null  object\n",
      " 2   toxic       159292 non-null  int64 \n",
      "dtypes: int64(2), object(1)\n",
      "memory usage: 3.6+ MB\n"
     ]
    },
    {
     "data": {
      "text/plain": [
       "None"
      ]
     },
     "metadata": {},
     "output_type": "display_data"
    }
   ],
   "source": [
    "display(comments.info())"
   ]
  },
  {
   "cell_type": "code",
   "execution_count": 4,
   "metadata": {},
   "outputs": [],
   "source": [
    "# удалим ошибочный столбец \"Unnamed: 0\" \n",
    "del comments['Unnamed: 0'] "
   ]
  },
  {
   "cell_type": "code",
   "execution_count": 5,
   "metadata": {
    "scrolled": true
   },
   "outputs": [
    {
     "data": {
      "text/html": [
       "<div>\n",
       "<style scoped>\n",
       "    .dataframe tbody tr th:only-of-type {\n",
       "        vertical-align: middle;\n",
       "    }\n",
       "\n",
       "    .dataframe tbody tr th {\n",
       "        vertical-align: top;\n",
       "    }\n",
       "\n",
       "    .dataframe thead th {\n",
       "        text-align: right;\n",
       "    }\n",
       "</style>\n",
       "<table border=\"1\" class=\"dataframe\">\n",
       "  <thead>\n",
       "    <tr style=\"text-align: right;\">\n",
       "      <th></th>\n",
       "      <th>text</th>\n",
       "      <th>toxic</th>\n",
       "    </tr>\n",
       "  </thead>\n",
       "  <tbody>\n",
       "    <tr>\n",
       "      <th>0</th>\n",
       "      <td>Explanation\\nWhy the edits made under my usern...</td>\n",
       "      <td>0</td>\n",
       "    </tr>\n",
       "    <tr>\n",
       "      <th>1</th>\n",
       "      <td>D'aww! He matches this background colour I'm s...</td>\n",
       "      <td>0</td>\n",
       "    </tr>\n",
       "    <tr>\n",
       "      <th>2</th>\n",
       "      <td>Hey man, I'm really not trying to edit war. It...</td>\n",
       "      <td>0</td>\n",
       "    </tr>\n",
       "    <tr>\n",
       "      <th>3</th>\n",
       "      <td>\"\\nMore\\nI can't make any real suggestions on ...</td>\n",
       "      <td>0</td>\n",
       "    </tr>\n",
       "    <tr>\n",
       "      <th>4</th>\n",
       "      <td>You, sir, are my hero. Any chance you remember...</td>\n",
       "      <td>0</td>\n",
       "    </tr>\n",
       "  </tbody>\n",
       "</table>\n",
       "</div>"
      ],
      "text/plain": [
       "                                                text  toxic\n",
       "0  Explanation\\nWhy the edits made under my usern...      0\n",
       "1  D'aww! He matches this background colour I'm s...      0\n",
       "2  Hey man, I'm really not trying to edit war. It...      0\n",
       "3  \"\\nMore\\nI can't make any real suggestions on ...      0\n",
       "4  You, sir, are my hero. Any chance you remember...      0"
      ]
     },
     "metadata": {},
     "output_type": "display_data"
    }
   ],
   "source": [
    "display(comments.head())"
   ]
  },
  {
   "cell_type": "markdown",
   "metadata": {},
   "source": [
    "Наши данные состоят из двух столбцов. Столбец 'text' содержит текст комментария, а столбец 'toxic' - целевой признак\n",
    "\n",
    "Посмотрим на распределение целевого признака"
   ]
  },
  {
   "cell_type": "code",
   "execution_count": 6,
   "metadata": {},
   "outputs": [
    {
     "data": {
      "text/plain": [
       "0    0.898388\n",
       "1    0.101612\n",
       "Name: toxic, dtype: float64"
      ]
     },
     "execution_count": 6,
     "metadata": {},
     "output_type": "execute_result"
    }
   ],
   "source": [
    "comments['toxic'].value_counts(normalize=True)"
   ]
  },
  {
   "cell_type": "code",
   "execution_count": 7,
   "metadata": {},
   "outputs": [
    {
     "data": {
      "image/png": "[encoded data removed]",
      "text/plain": [
       "<Figure size 432x288 with 1 Axes>"
      ]
     },
     "metadata": {
      "needs_background": "light"
     },
     "output_type": "display_data"
    }
   ],
   "source": [
    "sns.countplot(data=comments, x='toxic')\n",
    "plt.title('')\n",
    "plt.grid()"
   ]
  },
  {
   "cell_type": "markdown",
   "metadata": {},
   "source": [
    "Наблюдаем явный дисбаланс классов, токсичных комментариев существенно меньше, чем позитивных или нейтральных."
   ]
  },
  {
   "cell_type": "markdown",
   "metadata": {},
   "source": [
    "Посмотрим какие слова встречаются чаще всего"
   ]
  },
  {
   "cell_type": "code",
   "execution_count": 8,
   "metadata": {},
   "outputs": [
    {
     "name": "stdout",
     "output_type": "stream",
     "text": [
      "the                     444416\n",
      "to                      287844\n",
      "                        226292\n",
      "of                      218673\n",
      "and                     206130\n",
      "                         ...  \n",
      "deletion/Armageddon          1\n",
      "\\n\\nMUSICOR\\n\\nDEBUT         1\n",
      "ध्वनि                        1\n",
      "Møn.                         1\n",
      "mailling                     1\n",
      "Length: 606410, dtype: int64\n"
     ]
    }
   ],
   "source": [
    "print(pd.Series(' '.join(comments.text).split(' ')).value_counts())"
   ]
  },
  {
   "cell_type": "markdown",
   "metadata": {},
   "source": [
    "Как видим чаще всего встречаются так называемые стоп-слова\n",
    "\n",
    "Найдем длину самого весомого комментария"
   ]
  },
  {
   "cell_type": "code",
   "execution_count": 9,
   "metadata": {},
   "outputs": [
    {
     "name": "stdout",
     "output_type": "stream",
     "text": [
      "Max length of column text: 5000\n",
      "\n"
     ]
    }
   ],
   "source": [
    "for c in comments:\n",
    "    if comments[c].dtype == 'object':\n",
    "        print('Max length of column %s: %s\\n' %  (c, comments[c].map(len).max()))"
   ]
  },
  {
   "cell_type": "markdown",
   "metadata": {},
   "source": [
    "Нам необходимо очистить текст от нежелательных символом и применить стемминг"
   ]
  },
  {
   "cell_type": "code",
   "execution_count": 13,
   "metadata": {},
   "outputs": [],
   "source": [
    "def clear_text(text):\n",
    "    \n",
    "    text = text.lower()\n",
    "    \n",
    "    text = re.sub(r'[^a-zA-Z ]', ' ', text).strip()\n",
    "    \n",
    "    # Удаляем html теги\n",
    "    text = re.sub(r'<[^>]+>', ' ', text)\n",
    "    \n",
    "    # Удаляем единичные символы\n",
    "    text = re.sub(r'\\s+[a-zA-Z]\\s+', ' ', text)\n",
    "    \n",
    "    # Удаляем единычные символы из начала строки\n",
    "    text = re.sub(r'\\^[a-zA-Z]\\s+', ' ', text) \n",
    "    \n",
    "    # Заменяем несколько пробелов на один\n",
    "    text = re.sub(r'\\s+', ' ', text, flags=re.I)\n",
    "    \n",
    "    # Удаляем 'b'\n",
    "    text = re.sub(r'^b\\s+', '', text)\n",
    "        \n",
    "    return text"
   ]
  },
  {
   "cell_type": "code",
   "execution_count": 14,
   "metadata": {},
   "outputs": [
    {
     "data": {
      "text/html": [
       "<div>\n",
       "<style scoped>\n",
       "    .dataframe tbody tr th:only-of-type {\n",
       "        vertical-align: middle;\n",
       "    }\n",
       "\n",
       "    .dataframe tbody tr th {\n",
       "        vertical-align: top;\n",
       "    }\n",
       "\n",
       "    .dataframe thead th {\n",
       "        text-align: right;\n",
       "    }\n",
       "</style>\n",
       "<table border=\"1\" class=\"dataframe\">\n",
       "  <thead>\n",
       "    <tr style=\"text-align: right;\">\n",
       "      <th></th>\n",
       "      <th>text</th>\n",
       "      <th>toxic</th>\n",
       "    </tr>\n",
       "  </thead>\n",
       "  <tbody>\n",
       "    <tr>\n",
       "      <th>0</th>\n",
       "      <td>explanation why the edits made under my userna...</td>\n",
       "      <td>0</td>\n",
       "    </tr>\n",
       "    <tr>\n",
       "      <th>1</th>\n",
       "      <td>d aww he matches this background colour m seem...</td>\n",
       "      <td>0</td>\n",
       "    </tr>\n",
       "    <tr>\n",
       "      <th>2</th>\n",
       "      <td>hey man m really not trying to edit war it jus...</td>\n",
       "      <td>0</td>\n",
       "    </tr>\n",
       "    <tr>\n",
       "      <th>3</th>\n",
       "      <td>more can make any real suggestions on improvem...</td>\n",
       "      <td>0</td>\n",
       "    </tr>\n",
       "    <tr>\n",
       "      <th>4</th>\n",
       "      <td>you sir are my hero any chance you remember wh...</td>\n",
       "      <td>0</td>\n",
       "    </tr>\n",
       "  </tbody>\n",
       "</table>\n",
       "</div>"
      ],
      "text/plain": [
       "                                                text  toxic\n",
       "0  explanation why the edits made under my userna...      0\n",
       "1  d aww he matches this background colour m seem...      0\n",
       "2  hey man m really not trying to edit war it jus...      0\n",
       "3  more can make any real suggestions on improvem...      0\n",
       "4  you sir are my hero any chance you remember wh...      0"
      ]
     },
     "metadata": {},
     "output_type": "display_data"
    }
   ],
   "source": [
    "comments['text'] = comments['text'].apply(clear_text)\n",
    "display(comments.head())"
   ]
  },
  {
   "cell_type": "code",
   "execution_count": 15,
   "metadata": {},
   "outputs": [],
   "source": [
    "#токкенизируем текс\n",
    "comments['text'] = comments['text'].apply(lambda text: word_tokenize(text))"
   ]
  },
  {
   "cell_type": "code",
   "execution_count": 16,
   "metadata": {
    "scrolled": true
   },
   "outputs": [
    {
     "data": {
      "text/html": [
       "<div>\n",
       "<style scoped>\n",
       "    .dataframe tbody tr th:only-of-type {\n",
       "        vertical-align: middle;\n",
       "    }\n",
       "\n",
       "    .dataframe tbody tr th {\n",
       "        vertical-align: top;\n",
       "    }\n",
       "\n",
       "    .dataframe thead th {\n",
       "        text-align: right;\n",
       "    }\n",
       "</style>\n",
       "<table border=\"1\" class=\"dataframe\">\n",
       "  <thead>\n",
       "    <tr style=\"text-align: right;\">\n",
       "      <th></th>\n",
       "      <th>text</th>\n",
       "      <th>toxic</th>\n",
       "    </tr>\n",
       "  </thead>\n",
       "  <tbody>\n",
       "    <tr>\n",
       "      <th>0</th>\n",
       "      <td>[explanation, why, the, edits, made, under, my...</td>\n",
       "      <td>0</td>\n",
       "    </tr>\n",
       "    <tr>\n",
       "      <th>1</th>\n",
       "      <td>[d, aww, he, matches, this, background, colour...</td>\n",
       "      <td>0</td>\n",
       "    </tr>\n",
       "    <tr>\n",
       "      <th>2</th>\n",
       "      <td>[hey, man, m, really, not, trying, to, edit, w...</td>\n",
       "      <td>0</td>\n",
       "    </tr>\n",
       "    <tr>\n",
       "      <th>3</th>\n",
       "      <td>[more, can, make, any, real, suggestions, on, ...</td>\n",
       "      <td>0</td>\n",
       "    </tr>\n",
       "    <tr>\n",
       "      <th>4</th>\n",
       "      <td>[you, sir, are, my, hero, any, chance, you, re...</td>\n",
       "      <td>0</td>\n",
       "    </tr>\n",
       "  </tbody>\n",
       "</table>\n",
       "</div>"
      ],
      "text/plain": [
       "                                                text  toxic\n",
       "0  [explanation, why, the, edits, made, under, my...      0\n",
       "1  [d, aww, he, matches, this, background, colour...      0\n",
       "2  [hey, man, m, really, not, trying, to, edit, w...      0\n",
       "3  [more, can, make, any, real, suggestions, on, ...      0\n",
       "4  [you, sir, are, my, hero, any, chance, you, re...      0"
      ]
     },
     "execution_count": 16,
     "metadata": {},
     "output_type": "execute_result"
    }
   ],
   "source": [
    "comments.head()"
   ]
  },
  {
   "cell_type": "markdown",
   "metadata": {},
   "source": [
    "С помощью стемминга приведем слова к форме основы. Воспользуемся инструментом EnglishStemmer из библиотеки nltk. Применим ко всему датасету."
   ]
  },
  {
   "cell_type": "code",
   "execution_count": 17,
   "metadata": {},
   "outputs": [],
   "source": [
    "stemmer = EnglishStemmer(ignore_stopwords=False)"
   ]
  },
  {
   "cell_type": "code",
   "execution_count": 18,
   "metadata": {},
   "outputs": [],
   "source": [
    "stemm = comments['text'].apply(lambda x: ' '.join ([stemmer.stem(y) for y in x]))"
   ]
  },
  {
   "cell_type": "code",
   "execution_count": 19,
   "metadata": {},
   "outputs": [
    {
     "data": {
      "text/plain": [
       "(159292,)"
      ]
     },
     "execution_count": 19,
     "metadata": {},
     "output_type": "execute_result"
    }
   ],
   "source": [
    "stemm.shape"
   ]
  },
  {
   "cell_type": "code",
   "execution_count": 20,
   "metadata": {},
   "outputs": [
    {
     "data": {
      "text/plain": [
       "0    explan whi the edit made under my usernam hard...\n",
       "1    d aww he match this background colour m seem s...\n",
       "2    hey man m realli not tri to edit war it just t...\n",
       "3    more can make ani real suggest on improv wonde...\n",
       "4    you sir are my hero ani chanc you rememb what ...\n",
       "Name: text, dtype: object"
      ]
     },
     "execution_count": 20,
     "metadata": {},
     "output_type": "execute_result"
    }
   ],
   "source": [
    "stemm.head()"
   ]
  },
  {
   "cell_type": "markdown",
   "metadata": {},
   "source": [
    "Выделим целевой признак - toxic"
   ]
  },
  {
   "cell_type": "code",
   "execution_count": 21,
   "metadata": {},
   "outputs": [],
   "source": [
    "y = comments['toxic']"
   ]
  },
  {
   "cell_type": "markdown",
   "metadata": {},
   "source": [
    "Разделим датасет на обучающую и тестовую выборки."
   ]
  },
  {
   "cell_type": "code",
   "execution_count": 24,
   "metadata": {},
   "outputs": [],
   "source": [
    "text_train, text_test, y_train, y_test = train_test_split(stemm, y, test_size=0.3, random_state=555)"
   ]
  },
  {
   "cell_type": "markdown",
   "metadata": {},
   "source": [
    "Загрузим список стоп-слов"
   ]
  },
  {
   "cell_type": "code",
   "execution_count": 27,
   "metadata": {},
   "outputs": [
    {
     "data": {
      "text/plain": [
       "['i', 'me', 'my', 'myself', 'we', 'our', 'ours', 'ourselves', 'you', \"you're\"]"
      ]
     },
     "execution_count": 27,
     "metadata": {},
     "output_type": "execute_result"
    }
   ],
   "source": [
    "stop_words = list(stopwords.words('english'))\n",
    "stop_words[:10]"
   ]
  },
  {
   "cell_type": "markdown",
   "metadata": {},
   "source": [
    "## Обучение"
   ]
  },
  {
   "cell_type": "markdown",
   "metadata": {},
   "source": [
    "Проверим несколько способов предварительной подготовки корпуса: с использованием мешка слов и параметра TF-IDF, с отсечением стоп-слов и без отсечения, а также с использованием только униграмм и совместно униграмм и биграмм.\n",
    "Подготовим соответствующие пайпланы и произведем оценку на модели Логистической Регрессии на кросс-валидации по обучающей выборке."
   ]
  },
  {
   "cell_type": "code",
   "execution_count": 28,
   "metadata": {},
   "outputs": [],
   "source": [
    "lgr_model = LogisticRegression(class_weight='balanced')\n",
    "\n",
    "pipeline_cnt = make_pipeline(CountVectorizer(), lgr_model)\n",
    "pipeline_cnt_2 = make_pipeline(CountVectorizer(ngram_range=(1,2)), lgr_model)\n",
    "pipeline_cnt_stop = make_pipeline(CountVectorizer(stop_words=stop_words), lgr_model)\n",
    "pipeline_cnt_stop_2 = make_pipeline(CountVectorizer(stop_words=stop_words, ngram_range=(1,2)), lgr_model)\n",
    "\n",
    "\n",
    "pipeline_tfidf = make_pipeline(TfidfVectorizer(), lgr_model)\n",
    "pipeline_tfidf_2 = make_pipeline(TfidfVectorizer(ngram_range=(1,2)), lgr_model) \n",
    "pipeline_tfidf_stop = make_pipeline(TfidfVectorizer(stop_words=stop_words), lgr_model)\n",
    "pipeline_tfidf_stop_2 = make_pipeline(TfidfVectorizer(stop_words=stop_words, ngram_range=(1,2)), lgr_model)"
   ]
  },
  {
   "cell_type": "code",
   "execution_count": 29,
   "metadata": {},
   "outputs": [],
   "source": [
    "pipeline_list = [pipeline_cnt, pipeline_cnt_2, pipeline_cnt_stop, pipeline_cnt_stop_2, \n",
    "                    pipeline_tfidf, pipeline_tfidf_2, pipeline_tfidf_stop, pipeline_tfidf_stop_2]"
   ]
  },
  {
   "cell_type": "code",
   "execution_count": 30,
   "metadata": {},
   "outputs": [
    {
     "name": "stdout",
     "output_type": "stream",
     "text": [
      "<bound method Pipeline.get_params of Pipeline(steps=[('countvectorizer', CountVectorizer()),\n",
      "                ('logisticregression',\n",
      "                 LogisticRegression(class_weight='balanced'))])>\n"
     ]
    },
    {
     "name": "stderr",
     "output_type": "stream",
     "text": [
      "/opt/conda/lib/python3.9/site-packages/sklearn/linear_model/_logistic.py:763: ConvergenceWarning: lbfgs failed to converge (status=1):\n",
      "STOP: TOTAL NO. of ITERATIONS REACHED LIMIT.\n",
      "\n",
      "Increase the number of iterations (max_iter) or scale the data as shown in:\n",
      "    https://scikit-learn.org/stable/modules/preprocessing.html\n",
      "Please also refer to the documentation for alternative solver options:\n",
      "    https://scikit-learn.org/stable/modules/linear_model.html#logistic-regression\n",
      "  n_iter_i = _check_optimize_result(\n",
      "/opt/conda/lib/python3.9/site-packages/sklearn/linear_model/_logistic.py:763: ConvergenceWarning: lbfgs failed to converge (status=1):\n",
      "STOP: TOTAL NO. of ITERATIONS REACHED LIMIT.\n",
      "\n",
      "Increase the number of iterations (max_iter) or scale the data as shown in:\n",
      "    https://scikit-learn.org/stable/modules/preprocessing.html\n",
      "Please also refer to the documentation for alternative solver options:\n",
      "    https://scikit-learn.org/stable/modules/linear_model.html#logistic-regression\n",
      "  n_iter_i = _check_optimize_result(\n",
      "/opt/conda/lib/python3.9/site-packages/sklearn/linear_model/_logistic.py:763: ConvergenceWarning: lbfgs failed to converge (status=1):\n",
      "STOP: TOTAL NO. of ITERATIONS REACHED LIMIT.\n",
      "\n",
      "Increase the number of iterations (max_iter) or scale the data as shown in:\n",
      "    https://scikit-learn.org/stable/modules/preprocessing.html\n",
      "Please also refer to the documentation for alternative solver options:\n",
      "    https://scikit-learn.org/stable/modules/linear_model.html#logistic-regression\n",
      "  n_iter_i = _check_optimize_result(\n"
     ]
    },
    {
     "name": "stdout",
     "output_type": "stream",
     "text": [
      "F1-score = 0.76, training_time = 151.2\n",
      "\n",
      "<bound method Pipeline.get_params of Pipeline(steps=[('countvectorizer', CountVectorizer(ngram_range=(1, 2))),\n",
      "                ('logisticregression',\n",
      "                 LogisticRegression(class_weight='balanced'))])>\n"
     ]
    },
    {
     "name": "stderr",
     "output_type": "stream",
     "text": [
      "/opt/conda/lib/python3.9/site-packages/sklearn/linear_model/_logistic.py:763: ConvergenceWarning: lbfgs failed to converge (status=1):\n",
      "STOP: TOTAL NO. of ITERATIONS REACHED LIMIT.\n",
      "\n",
      "Increase the number of iterations (max_iter) or scale the data as shown in:\n",
      "    https://scikit-learn.org/stable/modules/preprocessing.html\n",
      "Please also refer to the documentation for alternative solver options:\n",
      "    https://scikit-learn.org/stable/modules/linear_model.html#logistic-regression\n",
      "  n_iter_i = _check_optimize_result(\n",
      "/opt/conda/lib/python3.9/site-packages/sklearn/linear_model/_logistic.py:763: ConvergenceWarning: lbfgs failed to converge (status=1):\n",
      "STOP: TOTAL NO. of ITERATIONS REACHED LIMIT.\n",
      "\n",
      "Increase the number of iterations (max_iter) or scale the data as shown in:\n",
      "    https://scikit-learn.org/stable/modules/preprocessing.html\n",
      "Please also refer to the documentation for alternative solver options:\n",
      "    https://scikit-learn.org/stable/modules/linear_model.html#logistic-regression\n",
      "  n_iter_i = _check_optimize_result(\n",
      "/opt/conda/lib/python3.9/site-packages/sklearn/linear_model/_logistic.py:763: ConvergenceWarning: lbfgs failed to converge (status=1):\n",
      "STOP: TOTAL NO. of ITERATIONS REACHED LIMIT.\n",
      "\n",
      "Increase the number of iterations (max_iter) or scale the data as shown in:\n",
      "    https://scikit-learn.org/stable/modules/preprocessing.html\n",
      "Please also refer to the documentation for alternative solver options:\n",
      "    https://scikit-learn.org/stable/modules/linear_model.html#logistic-regression\n",
      "  n_iter_i = _check_optimize_result(\n"
     ]
    },
    {
     "name": "stdout",
     "output_type": "stream",
     "text": [
      "F1-score = 0.79, training_time = 347.6\n",
      "\n",
      "<bound method Pipeline.get_params of Pipeline(steps=[('countvectorizer',\n",
      "                 CountVectorizer(stop_words=['i', 'me', 'my', 'myself', 'we',\n",
      "                                             'our', 'ours', 'ourselves', 'you',\n",
      "                                             \"you're\", \"you've\", \"you'll\",\n",
      "                                             \"you'd\", 'your', 'yours',\n",
      "                                             'yourself', 'yourselves', 'he',\n",
      "                                             'him', 'his', 'himself', 'she',\n",
      "                                             \"she's\", 'her', 'hers', 'herself',\n",
      "                                             'it', \"it's\", 'its', 'itself', ...])),\n",
      "                ('logisticregression',\n",
      "                 LogisticRegression(class_weight='balanced'))])>\n"
     ]
    },
    {
     "name": "stderr",
     "output_type": "stream",
     "text": [
      "/opt/conda/lib/python3.9/site-packages/sklearn/linear_model/_logistic.py:763: ConvergenceWarning: lbfgs failed to converge (status=1):\n",
      "STOP: TOTAL NO. of ITERATIONS REACHED LIMIT.\n",
      "\n",
      "Increase the number of iterations (max_iter) or scale the data as shown in:\n",
      "    https://scikit-learn.org/stable/modules/preprocessing.html\n",
      "Please also refer to the documentation for alternative solver options:\n",
      "    https://scikit-learn.org/stable/modules/linear_model.html#logistic-regression\n",
      "  n_iter_i = _check_optimize_result(\n",
      "/opt/conda/lib/python3.9/site-packages/sklearn/linear_model/_logistic.py:763: ConvergenceWarning: lbfgs failed to converge (status=1):\n",
      "STOP: TOTAL NO. of ITERATIONS REACHED LIMIT.\n",
      "\n",
      "Increase the number of iterations (max_iter) or scale the data as shown in:\n",
      "    https://scikit-learn.org/stable/modules/preprocessing.html\n",
      "Please also refer to the documentation for alternative solver options:\n",
      "    https://scikit-learn.org/stable/modules/linear_model.html#logistic-regression\n",
      "  n_iter_i = _check_optimize_result(\n",
      "/opt/conda/lib/python3.9/site-packages/sklearn/linear_model/_logistic.py:763: ConvergenceWarning: lbfgs failed to converge (status=1):\n",
      "STOP: TOTAL NO. of ITERATIONS REACHED LIMIT.\n",
      "\n",
      "Increase the number of iterations (max_iter) or scale the data as shown in:\n",
      "    https://scikit-learn.org/stable/modules/preprocessing.html\n",
      "Please also refer to the documentation for alternative solver options:\n",
      "    https://scikit-learn.org/stable/modules/linear_model.html#logistic-regression\n",
      "  n_iter_i = _check_optimize_result(\n"
     ]
    },
    {
     "name": "stdout",
     "output_type": "stream",
     "text": [
      "F1-score = 0.75, training_time = 140.4\n",
      "\n",
      "<bound method Pipeline.get_params of Pipeline(steps=[('countvectorizer',\n",
      "                 CountVectorizer(ngram_range=(1, 2),\n",
      "                                 stop_words=['i', 'me', 'my', 'myself', 'we',\n",
      "                                             'our', 'ours', 'ourselves', 'you',\n",
      "                                             \"you're\", \"you've\", \"you'll\",\n",
      "                                             \"you'd\", 'your', 'yours',\n",
      "                                             'yourself', 'yourselves', 'he',\n",
      "                                             'him', 'his', 'himself', 'she',\n",
      "                                             \"she's\", 'her', 'hers', 'herself',\n",
      "                                             'it', \"it's\", 'its', 'itself', ...])),\n",
      "                ('logisticregression',\n",
      "                 LogisticRegression(class_weight='balanced'))])>\n"
     ]
    },
    {
     "name": "stderr",
     "output_type": "stream",
     "text": [
      "/opt/conda/lib/python3.9/site-packages/sklearn/linear_model/_logistic.py:763: ConvergenceWarning: lbfgs failed to converge (status=1):\n",
      "STOP: TOTAL NO. of ITERATIONS REACHED LIMIT.\n",
      "\n",
      "Increase the number of iterations (max_iter) or scale the data as shown in:\n",
      "    https://scikit-learn.org/stable/modules/preprocessing.html\n",
      "Please also refer to the documentation for alternative solver options:\n",
      "    https://scikit-learn.org/stable/modules/linear_model.html#logistic-regression\n",
      "  n_iter_i = _check_optimize_result(\n",
      "/opt/conda/lib/python3.9/site-packages/sklearn/linear_model/_logistic.py:763: ConvergenceWarning: lbfgs failed to converge (status=1):\n",
      "STOP: TOTAL NO. of ITERATIONS REACHED LIMIT.\n",
      "\n",
      "Increase the number of iterations (max_iter) or scale the data as shown in:\n",
      "    https://scikit-learn.org/stable/modules/preprocessing.html\n",
      "Please also refer to the documentation for alternative solver options:\n",
      "    https://scikit-learn.org/stable/modules/linear_model.html#logistic-regression\n",
      "  n_iter_i = _check_optimize_result(\n",
      "/opt/conda/lib/python3.9/site-packages/sklearn/linear_model/_logistic.py:763: ConvergenceWarning: lbfgs failed to converge (status=1):\n",
      "STOP: TOTAL NO. of ITERATIONS REACHED LIMIT.\n",
      "\n",
      "Increase the number of iterations (max_iter) or scale the data as shown in:\n",
      "    https://scikit-learn.org/stable/modules/preprocessing.html\n",
      "Please also refer to the documentation for alternative solver options:\n",
      "    https://scikit-learn.org/stable/modules/linear_model.html#logistic-regression\n",
      "  n_iter_i = _check_optimize_result(\n"
     ]
    },
    {
     "name": "stdout",
     "output_type": "stream",
     "text": [
      "F1-score = 0.79, training_time = 367.6\n",
      "\n",
      "<bound method Pipeline.get_params of Pipeline(steps=[('tfidfvectorizer', TfidfVectorizer()),\n",
      "                ('logisticregression',\n",
      "                 LogisticRegression(class_weight='balanced'))])>\n",
      "F1-score = 0.74, training_time = 107.9\n",
      "\n",
      "<bound method Pipeline.get_params of Pipeline(steps=[('tfidfvectorizer', TfidfVectorizer(ngram_range=(1, 2))),\n",
      "                ('logisticregression',\n",
      "                 LogisticRegression(class_weight='balanced'))])>\n",
      "F1-score = 0.74, training_time = 244.7\n",
      "\n",
      "<bound method Pipeline.get_params of Pipeline(steps=[('tfidfvectorizer',\n",
      "                 TfidfVectorizer(stop_words=['i', 'me', 'my', 'myself', 'we',\n",
      "                                             'our', 'ours', 'ourselves', 'you',\n",
      "                                             \"you're\", \"you've\", \"you'll\",\n",
      "                                             \"you'd\", 'your', 'yours',\n",
      "                                             'yourself', 'yourselves', 'he',\n",
      "                                             'him', 'his', 'himself', 'she',\n",
      "                                             \"she's\", 'her', 'hers', 'herself',\n",
      "                                             'it', \"it's\", 'its', 'itself', ...])),\n",
      "                ('logisticregression',\n",
      "                 LogisticRegression(class_weight='balanced'))])>\n",
      "F1-score = 0.75, training_time = 112.3\n",
      "\n",
      "<bound method Pipeline.get_params of Pipeline(steps=[('tfidfvectorizer',\n",
      "                 TfidfVectorizer(ngram_range=(1, 2),\n",
      "                                 stop_words=['i', 'me', 'my', 'myself', 'we',\n",
      "                                             'our', 'ours', 'ourselves', 'you',\n",
      "                                             \"you're\", \"you've\", \"you'll\",\n",
      "                                             \"you'd\", 'your', 'yours',\n",
      "                                             'yourself', 'yourselves', 'he',\n",
      "                                             'him', 'his', 'himself', 'she',\n",
      "                                             \"she's\", 'her', 'hers', 'herself',\n",
      "                                             'it', \"it's\", 'its', 'itself', ...])),\n",
      "                ('logisticregression',\n",
      "                 LogisticRegression(class_weight='balanced'))])>\n",
      "F1-score = 0.75, training_time = 183.6\n",
      "\n"
     ]
    }
   ],
   "source": [
    "for pipeline in pipeline_list:\n",
    "    print(pipeline.get_params)\n",
    "\n",
    "    start_time = time.time()\n",
    "    f1 = cross_val_score(pipeline, X=text_train, y=y_train, cv=3, scoring='f1'). mean()\n",
    "    end_time = time.time()\n",
    "    training_time = end_time - start_time\n",
    "\n",
    "    print(f'F1-score = {round(f1, 2)}, training_time = {round(training_time, 1)}')\n",
    "    print()"
   ]
  },
  {
   "cell_type": "markdown",
   "metadata": {},
   "source": [
    "|Модель|\tf1 score | \n",
    "| -------|:----:|\n",
    "|pipeline_cnt|0.76|\n",
    "|**pipeline_cnt_2**|**0.79**|\n",
    "|pipeline_cnt_stop|0.75|\n",
    "|**pipeline_cnt_stop_2**|**0.79**|\n",
    "|pipeline_tfidf|0.74|\n",
    "|pipeline_tfidf_2|0.74|\n",
    "|pipeline_tfidf_stop|0.75|\n",
    "|pipeline_tfidf_stop_2|0.75|"
   ]
  },
  {
   "cell_type": "markdown",
   "metadata": {},
   "source": [
    "При использовании CountVectorize добавление биграмм несколько повышает качество модели, однако сильно увеличивает время расчета. Применение стоп-слов несколько ухудшает качество модели, практически не отражаясь на скорости обучения. При использовании TfidfVectorizer качество модели практически не зависит от добавления биграмм и стоп-слов. Метод CountVectorize обеспечивает более высокую метрику качества F1-score, по сравнению с TF-IDF.\n",
    "Таким образом, наиболее предпочтитетельная подготовка вектора признаков в данном случае основана на использовании метода мешка слов на основе униграмм и биграмм без использования стоп-слов.\n",
    "\n",
    "Попробуем также для выбранного метода подготовки данных, использовать модели классификации с дефолтными параметрами: Дерево Решений, k-ближайших и Логистическую Регрессию со Стохастическим Градиентным Спуском."
   ]
  },
  {
   "cell_type": "code",
   "execution_count": 38,
   "metadata": {},
   "outputs": [
    {
     "data": {
      "text/plain": [
       "0.59"
      ]
     },
     "execution_count": 38,
     "metadata": {},
     "output_type": "execute_result"
    }
   ],
   "source": [
    "# Модель Дерева Решений\n",
    "\n",
    "pipeline_dtf = make_pipeline(CountVectorizer(ngram_range=(1,2)), DecisionTreeClassifier(random_state=555, \n",
    "                                                                                        class_weight='balanced'))\n",
    "cross_val_score(pipeline_dtf, X=text_train, y=y_train, cv=3, scoring='f1', n_jobs=-1).mean().round(2)"
   ]
  },
  {
   "cell_type": "code",
   "execution_count": 39,
   "metadata": {},
   "outputs": [
    {
     "data": {
      "text/plain": [
       "0.38"
      ]
     },
     "execution_count": 39,
     "metadata": {},
     "output_type": "execute_result"
    }
   ],
   "source": [
    "# Модель k-Ближайших соседей\n",
    "\n",
    "pipeline_knn = make_pipeline(CountVectorizer(ngram_range=(1,2)), KNeighborsClassifier())\n",
    "cross_val_score(pipeline_knn, X=text_train, y=y_train, cv=3, scoring='f1', n_jobs=-1).mean().round(2)"
   ]
  },
  {
   "cell_type": "code",
   "execution_count": 40,
   "metadata": {},
   "outputs": [
    {
     "data": {
      "text/plain": [
       "0.77"
      ]
     },
     "execution_count": 40,
     "metadata": {},
     "output_type": "execute_result"
    }
   ],
   "source": [
    "#Логистическая Регрессия с SGD\n",
    "\n",
    "pipeline_sgd = make_pipeline(CountVectorizer(ngram_range=(1,2)), SGDClassifier(random_state=555, \n",
    "                                                                                        class_weight='balanced'))\n",
    "cross_val_score(pipeline_sgd, X=text_train, y=y_train, cv=3, scoring='f1', n_jobs=-1).mean().round(2)"
   ]
  },
  {
   "cell_type": "markdown",
   "metadata": {},
   "source": [
    "|Модель |\tf1 score | \n",
    "| -------|:----:|\n",
    "|Дерево Решений|0.59|\n",
    "|k-Ближайшие соседи|0.38|\n",
    "|**Логистическая Регрессия с SGD**|**0.77**|\n",
    "|**Логистическая Регрессия с cnt_stop_2,cnt_2**|**0.79**|"
   ]
  },
  {
   "cell_type": "markdown",
   "metadata": {},
   "source": [
    "Качество моделей Дерево Решений и k-ближайших соседей существенно ниже. Вариант Лостической Регрессии со Стохастическим Градиентным Спуском показывает несколько меньшее значение метрики качества, однако существенно выигрывает во врмени.\n",
    "Остановимся на моделях Логистической Регрессии, попробуем настроить гиперпараметры"
   ]
  },
  {
   "cell_type": "code",
   "execution_count": 42,
   "metadata": {},
   "outputs": [
    {
     "name": "stderr",
     "output_type": "stream",
     "text": [
      "/opt/conda/lib/python3.9/site-packages/sklearn/linear_model/_logistic.py:763: ConvergenceWarning: lbfgs failed to converge (status=1):\n",
      "STOP: TOTAL NO. of ITERATIONS REACHED LIMIT.\n",
      "\n",
      "Increase the number of iterations (max_iter) or scale the data as shown in:\n",
      "    https://scikit-learn.org/stable/modules/preprocessing.html\n",
      "Please also refer to the documentation for alternative solver options:\n",
      "    https://scikit-learn.org/stable/modules/linear_model.html#logistic-regression\n",
      "  n_iter_i = _check_optimize_result(\n",
      "/opt/conda/lib/python3.9/site-packages/sklearn/linear_model/_logistic.py:763: ConvergenceWarning: lbfgs failed to converge (status=1):\n",
      "STOP: TOTAL NO. of ITERATIONS REACHED LIMIT.\n",
      "\n",
      "Increase the number of iterations (max_iter) or scale the data as shown in:\n",
      "    https://scikit-learn.org/stable/modules/preprocessing.html\n",
      "Please also refer to the documentation for alternative solver options:\n",
      "    https://scikit-learn.org/stable/modules/linear_model.html#logistic-regression\n",
      "  n_iter_i = _check_optimize_result(\n",
      "/opt/conda/lib/python3.9/site-packages/sklearn/linear_model/_logistic.py:763: ConvergenceWarning: lbfgs failed to converge (status=1):\n",
      "STOP: TOTAL NO. of ITERATIONS REACHED LIMIT.\n",
      "\n",
      "Increase the number of iterations (max_iter) or scale the data as shown in:\n",
      "    https://scikit-learn.org/stable/modules/preprocessing.html\n",
      "Please also refer to the documentation for alternative solver options:\n",
      "    https://scikit-learn.org/stable/modules/linear_model.html#logistic-regression\n",
      "  n_iter_i = _check_optimize_result(\n",
      "/opt/conda/lib/python3.9/site-packages/sklearn/linear_model/_logistic.py:763: ConvergenceWarning: lbfgs failed to converge (status=1):\n",
      "STOP: TOTAL NO. of ITERATIONS REACHED LIMIT.\n",
      "\n",
      "Increase the number of iterations (max_iter) or scale the data as shown in:\n",
      "    https://scikit-learn.org/stable/modules/preprocessing.html\n",
      "Please also refer to the documentation for alternative solver options:\n",
      "    https://scikit-learn.org/stable/modules/linear_model.html#logistic-regression\n",
      "  n_iter_i = _check_optimize_result(\n",
      "/opt/conda/lib/python3.9/site-packages/sklearn/linear_model/_logistic.py:763: ConvergenceWarning: lbfgs failed to converge (status=1):\n",
      "STOP: TOTAL NO. of ITERATIONS REACHED LIMIT.\n",
      "\n",
      "Increase the number of iterations (max_iter) or scale the data as shown in:\n",
      "    https://scikit-learn.org/stable/modules/preprocessing.html\n",
      "Please also refer to the documentation for alternative solver options:\n",
      "    https://scikit-learn.org/stable/modules/linear_model.html#logistic-regression\n",
      "  n_iter_i = _check_optimize_result(\n",
      "/opt/conda/lib/python3.9/site-packages/sklearn/linear_model/_logistic.py:763: ConvergenceWarning: lbfgs failed to converge (status=1):\n",
      "STOP: TOTAL NO. of ITERATIONS REACHED LIMIT.\n",
      "\n",
      "Increase the number of iterations (max_iter) or scale the data as shown in:\n",
      "    https://scikit-learn.org/stable/modules/preprocessing.html\n",
      "Please also refer to the documentation for alternative solver options:\n",
      "    https://scikit-learn.org/stable/modules/linear_model.html#logistic-regression\n",
      "  n_iter_i = _check_optimize_result(\n",
      "/opt/conda/lib/python3.9/site-packages/sklearn/linear_model/_logistic.py:763: ConvergenceWarning: lbfgs failed to converge (status=1):\n",
      "STOP: TOTAL NO. of ITERATIONS REACHED LIMIT.\n",
      "\n",
      "Increase the number of iterations (max_iter) or scale the data as shown in:\n",
      "    https://scikit-learn.org/stable/modules/preprocessing.html\n",
      "Please also refer to the documentation for alternative solver options:\n",
      "    https://scikit-learn.org/stable/modules/linear_model.html#logistic-regression\n",
      "  n_iter_i = _check_optimize_result(\n",
      "/opt/conda/lib/python3.9/site-packages/sklearn/linear_model/_logistic.py:763: ConvergenceWarning: lbfgs failed to converge (status=1):\n",
      "STOP: TOTAL NO. of ITERATIONS REACHED LIMIT.\n",
      "\n",
      "Increase the number of iterations (max_iter) or scale the data as shown in:\n",
      "    https://scikit-learn.org/stable/modules/preprocessing.html\n",
      "Please also refer to the documentation for alternative solver options:\n",
      "    https://scikit-learn.org/stable/modules/linear_model.html#logistic-regression\n",
      "  n_iter_i = _check_optimize_result(\n",
      "/opt/conda/lib/python3.9/site-packages/sklearn/linear_model/_logistic.py:763: ConvergenceWarning: lbfgs failed to converge (status=1):\n",
      "STOP: TOTAL NO. of ITERATIONS REACHED LIMIT.\n",
      "\n",
      "Increase the number of iterations (max_iter) or scale the data as shown in:\n",
      "    https://scikit-learn.org/stable/modules/preprocessing.html\n",
      "Please also refer to the documentation for alternative solver options:\n",
      "    https://scikit-learn.org/stable/modules/linear_model.html#logistic-regression\n",
      "  n_iter_i = _check_optimize_result(\n",
      "/opt/conda/lib/python3.9/site-packages/sklearn/linear_model/_logistic.py:763: ConvergenceWarning: lbfgs failed to converge (status=1):\n",
      "STOP: TOTAL NO. of ITERATIONS REACHED LIMIT.\n",
      "\n",
      "Increase the number of iterations (max_iter) or scale the data as shown in:\n",
      "    https://scikit-learn.org/stable/modules/preprocessing.html\n",
      "Please also refer to the documentation for alternative solver options:\n",
      "    https://scikit-learn.org/stable/modules/linear_model.html#logistic-regression\n",
      "  n_iter_i = _check_optimize_result(\n",
      "/opt/conda/lib/python3.9/site-packages/sklearn/linear_model/_logistic.py:763: ConvergenceWarning: lbfgs failed to converge (status=1):\n",
      "STOP: TOTAL NO. of ITERATIONS REACHED LIMIT.\n",
      "\n",
      "Increase the number of iterations (max_iter) or scale the data as shown in:\n",
      "    https://scikit-learn.org/stable/modules/preprocessing.html\n",
      "Please also refer to the documentation for alternative solver options:\n",
      "    https://scikit-learn.org/stable/modules/linear_model.html#logistic-regression\n",
      "  n_iter_i = _check_optimize_result(\n",
      "/opt/conda/lib/python3.9/site-packages/sklearn/linear_model/_logistic.py:763: ConvergenceWarning: lbfgs failed to converge (status=1):\n",
      "STOP: TOTAL NO. of ITERATIONS REACHED LIMIT.\n",
      "\n",
      "Increase the number of iterations (max_iter) or scale the data as shown in:\n",
      "    https://scikit-learn.org/stable/modules/preprocessing.html\n",
      "Please also refer to the documentation for alternative solver options:\n",
      "    https://scikit-learn.org/stable/modules/linear_model.html#logistic-regression\n",
      "  n_iter_i = _check_optimize_result(\n",
      "/opt/conda/lib/python3.9/site-packages/sklearn/linear_model/_logistic.py:763: ConvergenceWarning: lbfgs failed to converge (status=1):\n",
      "STOP: TOTAL NO. of ITERATIONS REACHED LIMIT.\n",
      "\n",
      "Increase the number of iterations (max_iter) or scale the data as shown in:\n",
      "    https://scikit-learn.org/stable/modules/preprocessing.html\n",
      "Please also refer to the documentation for alternative solver options:\n",
      "    https://scikit-learn.org/stable/modules/linear_model.html#logistic-regression\n",
      "  n_iter_i = _check_optimize_result(\n",
      "/opt/conda/lib/python3.9/site-packages/sklearn/linear_model/_logistic.py:763: ConvergenceWarning: lbfgs failed to converge (status=1):\n",
      "STOP: TOTAL NO. of ITERATIONS REACHED LIMIT.\n",
      "\n",
      "Increase the number of iterations (max_iter) or scale the data as shown in:\n",
      "    https://scikit-learn.org/stable/modules/preprocessing.html\n",
      "Please also refer to the documentation for alternative solver options:\n",
      "    https://scikit-learn.org/stable/modules/linear_model.html#logistic-regression\n",
      "  n_iter_i = _check_optimize_result(\n",
      "/opt/conda/lib/python3.9/site-packages/sklearn/linear_model/_logistic.py:763: ConvergenceWarning: lbfgs failed to converge (status=1):\n",
      "STOP: TOTAL NO. of ITERATIONS REACHED LIMIT.\n",
      "\n",
      "Increase the number of iterations (max_iter) or scale the data as shown in:\n",
      "    https://scikit-learn.org/stable/modules/preprocessing.html\n",
      "Please also refer to the documentation for alternative solver options:\n",
      "    https://scikit-learn.org/stable/modules/linear_model.html#logistic-regression\n",
      "  n_iter_i = _check_optimize_result(\n",
      "/opt/conda/lib/python3.9/site-packages/sklearn/linear_model/_logistic.py:763: ConvergenceWarning: lbfgs failed to converge (status=1):\n",
      "STOP: TOTAL NO. of ITERATIONS REACHED LIMIT.\n",
      "\n",
      "Increase the number of iterations (max_iter) or scale the data as shown in:\n",
      "    https://scikit-learn.org/stable/modules/preprocessing.html\n",
      "Please also refer to the documentation for alternative solver options:\n",
      "    https://scikit-learn.org/stable/modules/linear_model.html#logistic-regression\n",
      "  n_iter_i = _check_optimize_result(\n",
      "/opt/conda/lib/python3.9/site-packages/sklearn/linear_model/_logistic.py:763: ConvergenceWarning: lbfgs failed to converge (status=1):\n",
      "STOP: TOTAL NO. of ITERATIONS REACHED LIMIT.\n",
      "\n",
      "Increase the number of iterations (max_iter) or scale the data as shown in:\n",
      "    https://scikit-learn.org/stable/modules/preprocessing.html\n",
      "Please also refer to the documentation for alternative solver options:\n",
      "    https://scikit-learn.org/stable/modules/linear_model.html#logistic-regression\n",
      "  n_iter_i = _check_optimize_result(\n",
      "/opt/conda/lib/python3.9/site-packages/sklearn/linear_model/_logistic.py:763: ConvergenceWarning: lbfgs failed to converge (status=1):\n",
      "STOP: TOTAL NO. of ITERATIONS REACHED LIMIT.\n",
      "\n",
      "Increase the number of iterations (max_iter) or scale the data as shown in:\n",
      "    https://scikit-learn.org/stable/modules/preprocessing.html\n",
      "Please also refer to the documentation for alternative solver options:\n",
      "    https://scikit-learn.org/stable/modules/linear_model.html#logistic-regression\n",
      "  n_iter_i = _check_optimize_result(\n",
      "/opt/conda/lib/python3.9/site-packages/sklearn/linear_model/_logistic.py:763: ConvergenceWarning: lbfgs failed to converge (status=1):\n",
      "STOP: TOTAL NO. of ITERATIONS REACHED LIMIT.\n",
      "\n",
      "Increase the number of iterations (max_iter) or scale the data as shown in:\n",
      "    https://scikit-learn.org/stable/modules/preprocessing.html\n",
      "Please also refer to the documentation for alternative solver options:\n",
      "    https://scikit-learn.org/stable/modules/linear_model.html#logistic-regression\n",
      "  n_iter_i = _check_optimize_result(\n",
      "/opt/conda/lib/python3.9/site-packages/sklearn/linear_model/_logistic.py:763: ConvergenceWarning: lbfgs failed to converge (status=1):\n",
      "STOP: TOTAL NO. of ITERATIONS REACHED LIMIT.\n",
      "\n",
      "Increase the number of iterations (max_iter) or scale the data as shown in:\n",
      "    https://scikit-learn.org/stable/modules/preprocessing.html\n",
      "Please also refer to the documentation for alternative solver options:\n",
      "    https://scikit-learn.org/stable/modules/linear_model.html#logistic-regression\n",
      "  n_iter_i = _check_optimize_result(\n",
      "/opt/conda/lib/python3.9/site-packages/sklearn/linear_model/_logistic.py:763: ConvergenceWarning: lbfgs failed to converge (status=1):\n",
      "STOP: TOTAL NO. of ITERATIONS REACHED LIMIT.\n",
      "\n",
      "Increase the number of iterations (max_iter) or scale the data as shown in:\n",
      "    https://scikit-learn.org/stable/modules/preprocessing.html\n",
      "Please also refer to the documentation for alternative solver options:\n",
      "    https://scikit-learn.org/stable/modules/linear_model.html#logistic-regression\n",
      "  n_iter_i = _check_optimize_result(\n",
      "/opt/conda/lib/python3.9/site-packages/sklearn/linear_model/_logistic.py:763: ConvergenceWarning: lbfgs failed to converge (status=1):\n",
      "STOP: TOTAL NO. of ITERATIONS REACHED LIMIT.\n",
      "\n",
      "Increase the number of iterations (max_iter) or scale the data as shown in:\n",
      "    https://scikit-learn.org/stable/modules/preprocessing.html\n",
      "Please also refer to the documentation for alternative solver options:\n",
      "    https://scikit-learn.org/stable/modules/linear_model.html#logistic-regression\n",
      "  n_iter_i = _check_optimize_result(\n",
      "/opt/conda/lib/python3.9/site-packages/sklearn/linear_model/_logistic.py:763: ConvergenceWarning: lbfgs failed to converge (status=1):\n",
      "STOP: TOTAL NO. of ITERATIONS REACHED LIMIT.\n",
      "\n",
      "Increase the number of iterations (max_iter) or scale the data as shown in:\n",
      "    https://scikit-learn.org/stable/modules/preprocessing.html\n",
      "Please also refer to the documentation for alternative solver options:\n",
      "    https://scikit-learn.org/stable/modules/linear_model.html#logistic-regression\n",
      "  n_iter_i = _check_optimize_result(\n",
      "/opt/conda/lib/python3.9/site-packages/sklearn/linear_model/_logistic.py:763: ConvergenceWarning: lbfgs failed to converge (status=1):\n",
      "STOP: TOTAL NO. of ITERATIONS REACHED LIMIT.\n",
      "\n",
      "Increase the number of iterations (max_iter) or scale the data as shown in:\n",
      "    https://scikit-learn.org/stable/modules/preprocessing.html\n",
      "Please also refer to the documentation for alternative solver options:\n",
      "    https://scikit-learn.org/stable/modules/linear_model.html#logistic-regression\n",
      "  n_iter_i = _check_optimize_result(\n",
      "/opt/conda/lib/python3.9/site-packages/sklearn/linear_model/_logistic.py:763: ConvergenceWarning: lbfgs failed to converge (status=1):\n",
      "STOP: TOTAL NO. of ITERATIONS REACHED LIMIT.\n",
      "\n",
      "Increase the number of iterations (max_iter) or scale the data as shown in:\n",
      "    https://scikit-learn.org/stable/modules/preprocessing.html\n",
      "Please also refer to the documentation for alternative solver options:\n",
      "    https://scikit-learn.org/stable/modules/linear_model.html#logistic-regression\n",
      "  n_iter_i = _check_optimize_result(\n",
      "/opt/conda/lib/python3.9/site-packages/sklearn/linear_model/_logistic.py:763: ConvergenceWarning: lbfgs failed to converge (status=1):\n",
      "STOP: TOTAL NO. of ITERATIONS REACHED LIMIT.\n",
      "\n",
      "Increase the number of iterations (max_iter) or scale the data as shown in:\n",
      "    https://scikit-learn.org/stable/modules/preprocessing.html\n",
      "Please also refer to the documentation for alternative solver options:\n",
      "    https://scikit-learn.org/stable/modules/linear_model.html#logistic-regression\n",
      "  n_iter_i = _check_optimize_result(\n",
      "/opt/conda/lib/python3.9/site-packages/sklearn/linear_model/_logistic.py:763: ConvergenceWarning: lbfgs failed to converge (status=1):\n",
      "STOP: TOTAL NO. of ITERATIONS REACHED LIMIT.\n",
      "\n",
      "Increase the number of iterations (max_iter) or scale the data as shown in:\n",
      "    https://scikit-learn.org/stable/modules/preprocessing.html\n",
      "Please also refer to the documentation for alternative solver options:\n",
      "    https://scikit-learn.org/stable/modules/linear_model.html#logistic-regression\n",
      "  n_iter_i = _check_optimize_result(\n",
      "/opt/conda/lib/python3.9/site-packages/sklearn/linear_model/_logistic.py:763: ConvergenceWarning: lbfgs failed to converge (status=1):\n",
      "STOP: TOTAL NO. of ITERATIONS REACHED LIMIT.\n",
      "\n",
      "Increase the number of iterations (max_iter) or scale the data as shown in:\n",
      "    https://scikit-learn.org/stable/modules/preprocessing.html\n",
      "Please also refer to the documentation for alternative solver options:\n",
      "    https://scikit-learn.org/stable/modules/linear_model.html#logistic-regression\n",
      "  n_iter_i = _check_optimize_result(\n",
      "/opt/conda/lib/python3.9/site-packages/sklearn/linear_model/_logistic.py:763: ConvergenceWarning: lbfgs failed to converge (status=1):\n",
      "STOP: TOTAL NO. of ITERATIONS REACHED LIMIT.\n",
      "\n",
      "Increase the number of iterations (max_iter) or scale the data as shown in:\n",
      "    https://scikit-learn.org/stable/modules/preprocessing.html\n",
      "Please also refer to the documentation for alternative solver options:\n",
      "    https://scikit-learn.org/stable/modules/linear_model.html#logistic-regression\n",
      "  n_iter_i = _check_optimize_result(\n",
      "/opt/conda/lib/python3.9/site-packages/sklearn/linear_model/_logistic.py:763: ConvergenceWarning: lbfgs failed to converge (status=1):\n",
      "STOP: TOTAL NO. of ITERATIONS REACHED LIMIT.\n",
      "\n",
      "Increase the number of iterations (max_iter) or scale the data as shown in:\n",
      "    https://scikit-learn.org/stable/modules/preprocessing.html\n",
      "Please also refer to the documentation for alternative solver options:\n",
      "    https://scikit-learn.org/stable/modules/linear_model.html#logistic-regression\n",
      "  n_iter_i = _check_optimize_result(\n",
      "/opt/conda/lib/python3.9/site-packages/sklearn/linear_model/_logistic.py:763: ConvergenceWarning: lbfgs failed to converge (status=1):\n",
      "STOP: TOTAL NO. of ITERATIONS REACHED LIMIT.\n",
      "\n",
      "Increase the number of iterations (max_iter) or scale the data as shown in:\n",
      "    https://scikit-learn.org/stable/modules/preprocessing.html\n",
      "Please also refer to the documentation for alternative solver options:\n",
      "    https://scikit-learn.org/stable/modules/linear_model.html#logistic-regression\n",
      "  n_iter_i = _check_optimize_result(\n"
     ]
    },
    {
     "data": {
      "text/plain": [
       "0.79"
      ]
     },
     "execution_count": 42,
     "metadata": {},
     "output_type": "execute_result"
    }
   ],
   "source": [
    "log_grid = {'logisticregression__C' : np.logspace(-2, 3, 10)}\n",
    "log_search = GridSearchCV(estimator=pipeline_cnt_2, \n",
    "                            param_grid = log_grid, \n",
    "                            cv=3,\n",
    "                            n_jobs = -1,\n",
    "                            scoring='f1')\n",
    "log_search.fit(text_train, y_train)\n",
    "round(log_search.best_score_, 2)"
   ]
  },
  {
   "cell_type": "code",
   "execution_count": 43,
   "metadata": {},
   "outputs": [
    {
     "data": {
      "text/plain": [
       "0.78"
      ]
     },
     "execution_count": 43,
     "metadata": {},
     "output_type": "execute_result"
    }
   ],
   "source": [
    "sgd_grid = {'sgdclassifier__loss':['hinge', 'log'],\n",
    "            'sgdclassifier__learning_rate':['optimal', 'adaptive'],\n",
    "            'sgdclassifier__eta0':[0.05, 0.1, 0.2, 0.5]}\n",
    "sgd_search = GridSearchCV(estimator=pipeline_sgd, \n",
    "                            param_grid = sgd_grid, \n",
    "                            cv=3,\n",
    "                            n_jobs = -1,\n",
    "                            scoring='f1')\n",
    "sgd_search.fit(text_train, y_train)\n",
    "round(sgd_search.best_score_, 2)"
   ]
  },
  {
   "cell_type": "code",
   "execution_count": 44,
   "metadata": {},
   "outputs": [
    {
     "data": {
      "text/plain": [
       "{'sgdclassifier__eta0': 0.5,\n",
       " 'sgdclassifier__learning_rate': 'adaptive',\n",
       " 'sgdclassifier__loss': 'log'}"
      ]
     },
     "execution_count": 44,
     "metadata": {},
     "output_type": "execute_result"
    }
   ],
   "source": [
    "sgd_search.best_params_"
   ]
  },
  {
   "cell_type": "markdown",
   "metadata": {},
   "source": [
    "Подбор гиперпараметров несколько повысил качество модели SGD."
   ]
  },
  {
   "cell_type": "markdown",
   "metadata": {},
   "source": [
    "Обучим модели Логистической Регрессии на полном наборе обучающих данных и рассчитаем метрику f1 на тестовом наборе."
   ]
  },
  {
   "cell_type": "code",
   "execution_count": 45,
   "metadata": {},
   "outputs": [
    {
     "name": "stderr",
     "output_type": "stream",
     "text": [
      "/opt/conda/lib/python3.9/site-packages/sklearn/linear_model/_logistic.py:763: ConvergenceWarning: lbfgs failed to converge (status=1):\n",
      "STOP: TOTAL NO. of ITERATIONS REACHED LIMIT.\n",
      "\n",
      "Increase the number of iterations (max_iter) or scale the data as shown in:\n",
      "    https://scikit-learn.org/stable/modules/preprocessing.html\n",
      "Please also refer to the documentation for alternative solver options:\n",
      "    https://scikit-learn.org/stable/modules/linear_model.html#logistic-regression\n",
      "  n_iter_i = _check_optimize_result(\n"
     ]
    },
    {
     "name": "stdout",
     "output_type": "stream",
     "text": [
      "CPU times: user 1min 21s, sys: 51.7 s, total: 2min 12s\n",
      "Wall time: 2min 13s\n"
     ]
    },
    {
     "data": {
      "text/plain": [
       "0.7909451283121219"
      ]
     },
     "execution_count": 45,
     "metadata": {},
     "output_type": "execute_result"
    }
   ],
   "source": [
    "%%time\n",
    "log_search.best_estimator_.fit(text_train, y_train)\n",
    "y_pred = log_search.best_estimator_.predict(text_test)\n",
    "f1_score(y_test, y_pred)"
   ]
  },
  {
   "cell_type": "code",
   "execution_count": 46,
   "metadata": {},
   "outputs": [
    {
     "name": "stdout",
     "output_type": "stream",
     "text": [
      "CPU times: user 31.1 s, sys: 148 ms, total: 31.3 s\n",
      "Wall time: 31.4 s\n"
     ]
    },
    {
     "data": {
      "text/plain": [
       "0.7881822734101152"
      ]
     },
     "execution_count": 46,
     "metadata": {},
     "output_type": "execute_result"
    }
   ],
   "source": [
    "%%time\n",
    "sgd_search.best_estimator_.fit(text_train, y_train)\n",
    "y_pred = sgd_search.best_estimator_.predict(text_test)\n",
    "f1_score(y_test, y_pred)"
   ]
  },
  {
   "cell_type": "markdown",
   "metadata": {},
   "source": [
    "Модель логистической регрессии имеет лучшую метрику f1 и может быть использована для поиска токсичных комментариев и отправки их на модерацию в Интернет-магазине «Викишоп»."
   ]
  },
  {
   "cell_type": "markdown",
   "metadata": {},
   "source": [
    "## Выводы"
   ]
  },
  {
   "cell_type": "markdown",
   "metadata": {},
   "source": [
    "Исходный набор текстовых данных подготовлен для задачи классификации: удалены лишние символы, произведена токенизация и стемминг текста. На модели логистической регрессии проверено несколько вариантов подготовки векторов признаков из исходного корпуса: с использованием мешка слов и TF-IDF, со стоп-словами и без, а также с разделением на униграммы и биграммы и только на униграммы. Выбран способ подготовки с использованием CountVectorizer, без стоп-слов и на основе униграмм и биграмм. Проверено несколько других методов классификации: Деревья Решений, k-ближайших соседей и Логистическая регрессия со стохастическим Градиентным Спуском. Наилучшее значение метрики качества F1 на обучающей выборке на кросс-валидации получено на Логистической Регрессии, применение метода SGD несколько снижает качество, однако дает выигрыш в скорости расчета. Выбранные модели протестированы на тестовой выборке, метрика f1 составила 0,78 - 0,79, что примерно соответствует качеству на обучающей выборке."
   ]
  },
  {
   "cell_type": "code",
   "execution_count": null,
   "metadata": {},
   "outputs": [],
   "source": []
  }
 ],
 "metadata": {
  "ExecuteTimeLog": [
   {
    "duration": 79822,
    "start_time": "2022-08-12T18:57:48.445Z"
   },
   {
    "duration": 3682,
    "start_time": "2022-08-12T18:59:58.647Z"
   },
   {
    "duration": 55,
    "start_time": "2022-08-12T19:00:26.687Z"
   },
   {
    "duration": 3,
    "start_time": "2022-08-12T19:01:22.560Z"
   },
   {
    "duration": 20,
    "start_time": "2022-08-12T19:02:11.649Z"
   },
   {
    "duration": 1455,
    "start_time": "2022-08-12T19:02:54.145Z"
   },
   {
    "duration": 1154,
    "start_time": "2022-08-12T19:03:09.455Z"
   },
   {
    "duration": 3,
    "start_time": "2022-08-12T19:03:48.238Z"
   },
   {
    "duration": 3088,
    "start_time": "2022-08-12T19:04:07.530Z"
   },
   {
    "duration": 3010,
    "start_time": "2022-08-12T19:04:28.336Z"
   },
   {
    "duration": 3,
    "start_time": "2022-08-12T19:05:13.722Z"
   },
   {
    "duration": 78300,
    "start_time": "2022-08-12T19:05:30.622Z"
   },
   {
    "duration": 77577,
    "start_time": "2022-08-12T19:07:16.504Z"
   },
   {
    "duration": 330,
    "start_time": "2022-08-12T19:08:54.050Z"
   },
   {
    "duration": 5192,
    "start_time": "2022-08-12T19:09:01.772Z"
   },
   {
    "duration": 4906,
    "start_time": "2022-08-12T19:09:16.183Z"
   },
   {
    "duration": 4951,
    "start_time": "2022-08-12T19:09:34.076Z"
   },
   {
    "duration": 4,
    "start_time": "2022-08-12T19:10:57.350Z"
   },
   {
    "duration": 11100,
    "start_time": "2022-08-12T19:11:14.810Z"
   },
   {
    "duration": 12,
    "start_time": "2022-08-12T19:11:32.504Z"
   },
   {
    "duration": 33,
    "start_time": "2022-08-12T19:11:46.866Z"
   },
   {
    "duration": 233567,
    "start_time": "2022-08-12T19:12:43.838Z"
   },
   {
    "duration": 79688,
    "start_time": "2022-08-12T19:16:57.426Z"
   },
   {
    "duration": 2,
    "start_time": "2022-08-12T19:18:48.950Z"
   },
   {
    "duration": 3384,
    "start_time": "2022-08-12T19:18:57.498Z"
   },
   {
    "duration": 776,
    "start_time": "2022-08-12T19:19:03.585Z"
   },
   {
    "duration": 31,
    "start_time": "2022-08-12T19:19:05.630Z"
   },
   {
    "duration": 111311,
    "start_time": "2022-08-12T20:15:40.831Z"
   },
   {
    "duration": 3279,
    "start_time": "2022-08-12T20:17:32.145Z"
   },
   {
    "duration": 42,
    "start_time": "2022-08-12T20:17:35.426Z"
   },
   {
    "duration": 3,
    "start_time": "2022-08-12T20:17:35.469Z"
   },
   {
    "duration": 21,
    "start_time": "2022-08-12T20:17:35.474Z"
   },
   {
    "duration": 1028,
    "start_time": "2022-08-12T20:17:35.506Z"
   },
   {
    "duration": 896,
    "start_time": "2022-08-12T20:17:36.537Z"
   },
   {
    "duration": 8,
    "start_time": "2022-08-12T20:17:37.435Z"
   },
   {
    "duration": 2319,
    "start_time": "2022-08-12T20:17:37.445Z"
   },
   {
    "duration": 2340,
    "start_time": "2022-08-12T20:17:39.766Z"
   },
   {
    "duration": 3,
    "start_time": "2022-08-12T20:17:42.107Z"
   },
   {
    "duration": 59037,
    "start_time": "2022-08-12T20:17:42.112Z"
   },
   {
    "duration": 59796,
    "start_time": "2022-08-12T20:18:41.151Z"
   },
   {
    "duration": 408,
    "start_time": "2022-08-12T20:19:40.949Z"
   },
   {
    "duration": 3818,
    "start_time": "2022-08-12T20:19:41.358Z"
   },
   {
    "duration": 3765,
    "start_time": "2022-08-12T20:19:45.177Z"
   },
   {
    "duration": 3624,
    "start_time": "2022-08-12T20:19:48.944Z"
   },
   {
    "duration": 2,
    "start_time": "2022-08-12T20:19:52.570Z"
   },
   {
    "duration": 8036,
    "start_time": "2022-08-12T20:19:52.573Z"
   },
   {
    "duration": 11,
    "start_time": "2022-08-12T20:20:00.610Z"
   },
   {
    "duration": 32,
    "start_time": "2022-08-12T20:20:00.623Z"
   },
   {
    "duration": 172812,
    "start_time": "2022-08-12T20:20:00.657Z"
   },
   {
    "duration": 56995,
    "start_time": "2022-08-12T20:22:53.470Z"
   },
   {
    "duration": 4,
    "start_time": "2022-08-12T20:23:50.468Z"
   },
   {
    "duration": 2698,
    "start_time": "2022-08-12T20:23:50.473Z"
   },
   {
    "duration": 645,
    "start_time": "2022-08-12T20:23:53.173Z"
   },
   {
    "duration": 22,
    "start_time": "2022-08-12T20:23:53.820Z"
   },
   {
    "duration": 5,
    "start_time": "2022-08-12T21:03:06.098Z"
   },
   {
    "duration": 304,
    "start_time": "2022-08-12T21:03:12.138Z"
   },
   {
    "duration": 3,
    "start_time": "2022-08-12T21:07:02.030Z"
   },
   {
    "duration": 4,
    "start_time": "2022-08-12T21:07:07.471Z"
   },
   {
    "duration": 106964,
    "start_time": "2022-08-12T21:08:03.872Z"
   },
   {
    "duration": 3111,
    "start_time": "2022-08-12T21:09:50.838Z"
   },
   {
    "duration": 41,
    "start_time": "2022-08-12T21:09:53.951Z"
   },
   {
    "duration": 2,
    "start_time": "2022-08-12T21:09:53.993Z"
   },
   {
    "duration": 22,
    "start_time": "2022-08-12T21:09:53.997Z"
   },
   {
    "duration": 872,
    "start_time": "2022-08-12T21:09:54.021Z"
   },
   {
    "duration": 852,
    "start_time": "2022-08-12T21:09:54.894Z"
   },
   {
    "duration": 7,
    "start_time": "2022-08-12T21:09:55.748Z"
   },
   {
    "duration": 2442,
    "start_time": "2022-08-12T21:09:55.756Z"
   },
   {
    "duration": 2240,
    "start_time": "2022-08-12T21:09:58.200Z"
   },
   {
    "duration": 269,
    "start_time": "2022-08-12T21:12:56.520Z"
   },
   {
    "duration": 105007,
    "start_time": "2022-08-12T21:13:42.059Z"
   },
   {
    "duration": 3099,
    "start_time": "2022-08-12T21:15:27.068Z"
   },
   {
    "duration": 41,
    "start_time": "2022-08-12T21:15:30.168Z"
   },
   {
    "duration": 2,
    "start_time": "2022-08-12T21:15:30.211Z"
   },
   {
    "duration": 31,
    "start_time": "2022-08-12T21:15:30.214Z"
   },
   {
    "duration": 971,
    "start_time": "2022-08-12T21:15:30.247Z"
   },
   {
    "duration": 906,
    "start_time": "2022-08-12T21:15:31.220Z"
   },
   {
    "duration": 13,
    "start_time": "2022-08-12T21:15:32.128Z"
   },
   {
    "duration": 2303,
    "start_time": "2022-08-12T21:15:32.142Z"
   },
   {
    "duration": 2282,
    "start_time": "2022-08-12T21:15:34.447Z"
   },
   {
    "duration": 0,
    "start_time": "2022-08-12T21:15:37.017Z"
   },
   {
    "duration": 27,
    "start_time": "2022-08-12T21:15:42.101Z"
   },
   {
    "duration": 14,
    "start_time": "2022-08-12T21:16:37.518Z"
   },
   {
    "duration": 106312,
    "start_time": "2022-08-12T21:16:56.351Z"
   },
   {
    "duration": 3092,
    "start_time": "2022-08-12T21:18:42.665Z"
   },
   {
    "duration": 42,
    "start_time": "2022-08-12T21:18:45.759Z"
   },
   {
    "duration": 2,
    "start_time": "2022-08-12T21:18:45.804Z"
   },
   {
    "duration": 23,
    "start_time": "2022-08-12T21:18:45.807Z"
   },
   {
    "duration": 945,
    "start_time": "2022-08-12T21:18:45.831Z"
   },
   {
    "duration": 857,
    "start_time": "2022-08-12T21:18:46.778Z"
   },
   {
    "duration": 5,
    "start_time": "2022-08-12T21:18:47.637Z"
   },
   {
    "duration": 2364,
    "start_time": "2022-08-12T21:18:47.643Z"
   },
   {
    "duration": 2443,
    "start_time": "2022-08-12T21:18:50.009Z"
   },
   {
    "duration": 3,
    "start_time": "2022-08-12T21:18:52.453Z"
   },
   {
    "duration": 59388,
    "start_time": "2022-08-12T21:18:52.457Z"
   },
   {
    "duration": 58756,
    "start_time": "2022-08-12T21:19:51.846Z"
   },
   {
    "duration": 4,
    "start_time": "2022-08-12T21:20:50.606Z"
   },
   {
    "duration": 238,
    "start_time": "2022-08-12T21:22:04.317Z"
   },
   {
    "duration": 3840,
    "start_time": "2022-08-12T21:22:05.099Z"
   },
   {
    "duration": 3761,
    "start_time": "2022-08-12T21:22:08.940Z"
   },
   {
    "duration": 3677,
    "start_time": "2022-08-12T21:22:12.703Z"
   },
   {
    "duration": 3,
    "start_time": "2022-08-12T21:22:16.382Z"
   },
   {
    "duration": 9922,
    "start_time": "2022-08-12T21:22:16.386Z"
   },
   {
    "duration": 10,
    "start_time": "2022-08-12T21:22:26.309Z"
   },
   {
    "duration": 21,
    "start_time": "2022-08-12T21:22:44.172Z"
   },
   {
    "duration": 3,
    "start_time": "2022-08-12T21:41:01.143Z"
   },
   {
    "duration": 2707,
    "start_time": "2022-08-12T21:41:02.000Z"
   },
   {
    "duration": 11,
    "start_time": "2022-08-12T21:41:04.709Z"
   },
   {
    "duration": 25,
    "start_time": "2022-08-12T21:41:04.721Z"
   },
   {
    "duration": 22,
    "start_time": "2022-08-12T21:41:09.041Z"
   },
   {
    "duration": 2,
    "start_time": "2022-08-12T21:41:20.538Z"
   },
   {
    "duration": 2315,
    "start_time": "2022-08-12T21:41:20.798Z"
   },
   {
    "duration": 10,
    "start_time": "2022-08-12T21:41:23.115Z"
   },
   {
    "duration": 26,
    "start_time": "2022-08-12T21:41:23.126Z"
   },
   {
    "duration": 3,
    "start_time": "2022-08-12T21:41:31.624Z"
   },
   {
    "duration": 3081,
    "start_time": "2022-08-12T21:41:31.931Z"
   },
   {
    "duration": 10,
    "start_time": "2022-08-12T21:41:35.013Z"
   },
   {
    "duration": 23,
    "start_time": "2022-08-12T21:41:35.025Z"
   },
   {
    "duration": 3,
    "start_time": "2022-08-12T21:41:36.830Z"
   },
   {
    "duration": 16939,
    "start_time": "2022-08-12T21:41:37.668Z"
   },
   {
    "duration": 9,
    "start_time": "2022-08-12T21:41:54.609Z"
   },
   {
    "duration": 20,
    "start_time": "2022-08-12T21:41:54.620Z"
   },
   {
    "duration": 56138,
    "start_time": "2022-08-15T09:50:19.634Z"
   },
   {
    "duration": 2322,
    "start_time": "2022-08-15T09:52:18.566Z"
   },
   {
    "duration": 55,
    "start_time": "2022-08-15T09:52:23.374Z"
   },
   {
    "duration": 7,
    "start_time": "2022-08-15T10:02:56.356Z"
   },
   {
    "duration": 458,
    "start_time": "2022-08-15T10:07:52.943Z"
   },
   {
    "duration": 298,
    "start_time": "2022-08-15T10:58:45.244Z"
   },
   {
    "duration": 69,
    "start_time": "2022-08-15T10:59:11.401Z"
   },
   {
    "duration": 4,
    "start_time": "2022-08-15T11:09:51.873Z"
   },
   {
    "duration": 7190,
    "start_time": "2022-08-15T11:11:06.683Z"
   },
   {
    "duration": 17,
    "start_time": "2022-08-15T11:22:44.695Z"
   },
   {
    "duration": 53,
    "start_time": "2022-08-15T11:23:57.479Z"
   },
   {
    "duration": 56,
    "start_time": "2022-08-15T11:24:25.066Z"
   },
   {
    "duration": 7,
    "start_time": "2022-08-15T11:42:39.035Z"
   },
   {
    "duration": 18,
    "start_time": "2022-08-15T12:12:40.511Z"
   },
   {
    "duration": 18,
    "start_time": "2022-08-15T12:13:37.210Z"
   },
   {
    "duration": 26,
    "start_time": "2022-08-15T12:15:07.915Z"
   },
   {
    "duration": 47,
    "start_time": "2022-08-15T12:23:36.977Z"
   },
   {
    "duration": 18,
    "start_time": "2022-08-15T12:24:19.917Z"
   },
   {
    "duration": 20,
    "start_time": "2022-08-15T12:25:42.612Z"
   },
   {
    "duration": 355,
    "start_time": "2022-08-15T12:26:38.867Z"
   },
   {
    "duration": 37,
    "start_time": "2022-08-15T12:27:41.269Z"
   },
   {
    "duration": 21,
    "start_time": "2022-08-15T12:28:13.117Z"
   },
   {
    "duration": 24,
    "start_time": "2022-08-15T12:34:51.186Z"
   },
   {
    "duration": 21,
    "start_time": "2022-08-15T12:35:48.682Z"
   },
   {
    "duration": 7,
    "start_time": "2022-08-15T13:15:42.003Z"
   },
   {
    "duration": 6,
    "start_time": "2022-08-15T13:17:58.780Z"
   },
   {
    "duration": 20,
    "start_time": "2022-08-15T13:19:01.815Z"
   },
   {
    "duration": 55713,
    "start_time": "2022-08-15T13:31:16.530Z"
   },
   {
    "duration": 735,
    "start_time": "2022-08-15T13:32:58.811Z"
   },
   {
    "duration": 43,
    "start_time": "2022-08-15T13:33:00.578Z"
   },
   {
    "duration": 295,
    "start_time": "2022-08-15T13:33:09.602Z"
   },
   {
    "duration": 4,
    "start_time": "2022-08-15T13:33:23.850Z"
   },
   {
    "duration": 7346,
    "start_time": "2022-08-15T13:33:27.290Z"
   },
   {
    "duration": 27602,
    "start_time": "2022-08-15T13:36:31.613Z"
   },
   {
    "duration": 27931,
    "start_time": "2022-08-15T13:40:17.672Z"
   },
   {
    "duration": 333,
    "start_time": "2022-08-15T13:42:20.514Z"
   },
   {
    "duration": 120057,
    "start_time": "2022-08-15T13:45:07.266Z"
   },
   {
    "duration": 268,
    "start_time": "2022-08-15T13:48:07.148Z"
   },
   {
    "duration": 28636,
    "start_time": "2022-08-15T13:49:33.341Z"
   },
   {
    "duration": 235,
    "start_time": "2022-08-15T14:05:20.325Z"
   },
   {
    "duration": 43,
    "start_time": "2022-08-15T14:06:18.479Z"
   },
   {
    "duration": 17,
    "start_time": "2022-08-15T14:18:19.341Z"
   },
   {
    "duration": 63888,
    "start_time": "2022-08-15T14:27:48.317Z"
   },
   {
    "duration": 774,
    "start_time": "2022-08-15T14:29:04.097Z"
   },
   {
    "duration": 44,
    "start_time": "2022-08-15T14:29:05.850Z"
   },
   {
    "duration": 321,
    "start_time": "2022-08-15T14:29:14.858Z"
   },
   {
    "duration": 4,
    "start_time": "2022-08-15T14:29:22.378Z"
   },
   {
    "duration": 7290,
    "start_time": "2022-08-15T14:29:25.546Z"
   },
   {
    "duration": 60999,
    "start_time": "2022-08-15T15:23:30.269Z"
   },
   {
    "duration": 819,
    "start_time": "2022-08-15T15:24:34.517Z"
   },
   {
    "duration": 54,
    "start_time": "2022-08-15T15:24:37.363Z"
   },
   {
    "duration": 305,
    "start_time": "2022-08-15T15:24:42.333Z"
   },
   {
    "duration": 4,
    "start_time": "2022-08-15T15:24:45.414Z"
   },
   {
    "duration": 7694,
    "start_time": "2022-08-15T15:24:49.187Z"
   },
   {
    "duration": 3646,
    "start_time": "2022-08-15T15:26:44.775Z"
   },
   {
    "duration": 4612,
    "start_time": "2022-08-15T15:30:07.935Z"
   },
   {
    "duration": 4438,
    "start_time": "2022-08-15T15:31:28.032Z"
   },
   {
    "duration": 3449,
    "start_time": "2022-08-15T15:31:46.903Z"
   },
   {
    "duration": 1914,
    "start_time": "2022-08-15T15:40:14.180Z"
   },
   {
    "duration": 1546,
    "start_time": "2022-08-15T15:40:26.715Z"
   },
   {
    "duration": 1724,
    "start_time": "2022-08-15T15:40:44.348Z"
   },
   {
    "duration": 1547,
    "start_time": "2022-08-15T15:40:59.931Z"
   },
   {
    "duration": 1924,
    "start_time": "2022-08-15T15:41:36.141Z"
   },
   {
    "duration": 22,
    "start_time": "2022-08-15T15:43:51.181Z"
   },
   {
    "duration": 3,
    "start_time": "2022-08-15T15:44:10.846Z"
   },
   {
    "duration": 27,
    "start_time": "2022-08-15T15:44:36.278Z"
   },
   {
    "duration": 35,
    "start_time": "2022-08-15T15:45:06.562Z"
   },
   {
    "duration": 6396,
    "start_time": "2022-08-15T15:45:20.878Z"
   },
   {
    "duration": 6172,
    "start_time": "2022-08-15T15:45:41.560Z"
   },
   {
    "duration": 18,
    "start_time": "2022-08-15T15:46:03.728Z"
   },
   {
    "duration": 12,
    "start_time": "2022-08-15T15:46:06.899Z"
   },
   {
    "duration": 54,
    "start_time": "2022-08-15T15:46:32.847Z"
   },
   {
    "duration": 20,
    "start_time": "2022-08-15T15:46:52.120Z"
   },
   {
    "duration": 32,
    "start_time": "2022-08-15T15:48:34.199Z"
   },
   {
    "duration": 3690,
    "start_time": "2022-08-15T15:49:17.257Z"
   },
   {
    "duration": 46,
    "start_time": "2022-08-15T15:58:28.182Z"
   },
   {
    "duration": 72414,
    "start_time": "2022-08-15T15:58:53.366Z"
   },
   {
    "duration": 2489,
    "start_time": "2022-08-15T16:02:07.133Z"
   },
   {
    "duration": 45,
    "start_time": "2022-08-15T16:02:09.625Z"
   },
   {
    "duration": 378,
    "start_time": "2022-08-15T16:02:25.800Z"
   },
   {
    "duration": 4,
    "start_time": "2022-08-15T16:02:29.629Z"
   },
   {
    "duration": 7859,
    "start_time": "2022-08-15T16:02:31.101Z"
   },
   {
    "duration": 3504,
    "start_time": "2022-08-15T16:02:41.668Z"
   },
   {
    "duration": 46,
    "start_time": "2022-08-15T16:03:31.094Z"
   },
   {
    "duration": 79855,
    "start_time": "2022-08-15T16:05:05.561Z"
   },
   {
    "duration": 2297,
    "start_time": "2022-08-15T16:06:45.345Z"
   },
   {
    "duration": 42,
    "start_time": "2022-08-15T16:07:27.471Z"
   },
   {
    "duration": 294,
    "start_time": "2022-08-15T16:07:31.094Z"
   },
   {
    "duration": 4,
    "start_time": "2022-08-15T16:07:33.784Z"
   },
   {
    "duration": 7084,
    "start_time": "2022-08-15T16:07:39.248Z"
   },
   {
    "duration": 3289,
    "start_time": "2022-08-15T16:07:48.436Z"
   },
   {
    "duration": 69,
    "start_time": "2022-08-15T16:09:11.503Z"
   },
   {
    "duration": 53823,
    "start_time": "2022-08-15T16:10:12.646Z"
   },
   {
    "duration": 2239,
    "start_time": "2022-08-15T16:11:10.685Z"
   },
   {
    "duration": 43,
    "start_time": "2022-08-15T16:11:12.926Z"
   },
   {
    "duration": 370,
    "start_time": "2022-08-15T16:11:16.563Z"
   },
   {
    "duration": 4,
    "start_time": "2022-08-15T16:11:19.009Z"
   },
   {
    "duration": 7165,
    "start_time": "2022-08-15T16:11:22.379Z"
   },
   {
    "duration": 3210,
    "start_time": "2022-08-15T16:11:31.267Z"
   },
   {
    "duration": 59,
    "start_time": "2022-08-15T16:12:35.876Z"
   },
   {
    "duration": 3,
    "start_time": "2022-08-15T16:15:32.916Z"
   },
   {
    "duration": 3,
    "start_time": "2022-08-15T16:16:29.501Z"
   },
   {
    "duration": 32,
    "start_time": "2022-08-15T16:17:09.246Z"
   },
   {
    "duration": 1236,
    "start_time": "2022-08-15T16:19:59.584Z"
   },
   {
    "duration": 62784,
    "start_time": "2022-08-16T17:16:34.776Z"
   },
   {
    "duration": 2175,
    "start_time": "2022-08-16T17:17:44.877Z"
   },
   {
    "duration": 51,
    "start_time": "2022-08-16T17:17:53.661Z"
   },
   {
    "duration": 552,
    "start_time": "2022-08-16T17:18:03.525Z"
   },
   {
    "duration": 4,
    "start_time": "2022-08-16T17:18:10.725Z"
   },
   {
    "duration": 7419,
    "start_time": "2022-08-16T17:18:17.029Z"
   },
   {
    "duration": 3320,
    "start_time": "2022-08-16T17:24:52.674Z"
   },
   {
    "duration": 69,
    "start_time": "2022-08-16T17:27:25.445Z"
   },
   {
    "duration": 3,
    "start_time": "2022-08-16T17:38:14.306Z"
   },
   {
    "duration": 29,
    "start_time": "2022-08-16T17:39:02.988Z"
   },
   {
    "duration": 513,
    "start_time": "2022-08-16T17:44:08.248Z"
   },
   {
    "duration": 3,
    "start_time": "2022-08-16T17:44:14.422Z"
   },
   {
    "duration": 1216,
    "start_time": "2022-08-16T17:44:16.709Z"
   },
   {
    "duration": 946,
    "start_time": "2022-08-16T17:45:45.353Z"
   },
   {
    "duration": 61352,
    "start_time": "2022-08-16T18:03:29.426Z"
   },
   {
    "duration": 821,
    "start_time": "2022-08-16T18:04:37.976Z"
   },
   {
    "duration": 46,
    "start_time": "2022-08-16T18:04:43.335Z"
   },
   {
    "duration": 311,
    "start_time": "2022-08-16T18:05:18.480Z"
   },
   {
    "duration": 5,
    "start_time": "2022-08-16T18:05:27.529Z"
   },
   {
    "duration": 7879,
    "start_time": "2022-08-16T18:05:40.504Z"
   },
   {
    "duration": 3566,
    "start_time": "2022-08-16T18:05:52.703Z"
   },
   {
    "duration": 60,
    "start_time": "2022-08-16T18:06:13.622Z"
   },
   {
    "duration": 2,
    "start_time": "2022-08-16T18:07:42.338Z"
   },
   {
    "duration": 1274,
    "start_time": "2022-08-16T18:08:48.826Z"
   },
   {
    "duration": 58331,
    "start_time": "2022-08-16T18:10:29.856Z"
   },
   {
    "duration": 818,
    "start_time": "2022-08-16T18:11:34.305Z"
   },
   {
    "duration": 69,
    "start_time": "2022-08-16T18:11:37.285Z"
   },
   {
    "duration": 336,
    "start_time": "2022-08-16T18:11:42.549Z"
   },
   {
    "duration": 4,
    "start_time": "2022-08-16T18:11:46.677Z"
   },
   {
    "duration": 7989,
    "start_time": "2022-08-16T18:11:56.037Z"
   },
   {
    "duration": 3,
    "start_time": "2022-08-16T18:12:08.838Z"
   },
   {
    "duration": 1603,
    "start_time": "2022-08-16T18:12:09.877Z"
   },
   {
    "duration": 16,
    "start_time": "2022-08-16T18:25:19.018Z"
   },
   {
    "duration": 53852,
    "start_time": "2022-08-16T18:30:30.200Z"
   },
   {
    "duration": 722,
    "start_time": "2022-08-16T18:31:28.780Z"
   },
   {
    "duration": 47,
    "start_time": "2022-08-16T18:31:30.619Z"
   },
   {
    "duration": 281,
    "start_time": "2022-08-16T18:31:42.900Z"
   },
   {
    "duration": 5,
    "start_time": "2022-08-16T18:31:46.955Z"
   },
   {
    "duration": 7080,
    "start_time": "2022-08-16T18:32:22.062Z"
   },
   {
    "duration": 3208,
    "start_time": "2022-08-16T18:32:33.519Z"
   },
   {
    "duration": 55,
    "start_time": "2022-08-16T18:32:39.885Z"
   },
   {
    "duration": 3,
    "start_time": "2022-08-16T18:33:00.086Z"
   },
   {
    "duration": 365,
    "start_time": "2022-08-16T18:35:21.299Z"
   },
   {
    "duration": 23,
    "start_time": "2022-08-16T18:40:42.091Z"
   },
   {
    "duration": 23,
    "start_time": "2022-08-16T18:40:59.234Z"
   },
   {
    "duration": 981,
    "start_time": "2022-08-16T18:42:44.445Z"
   },
   {
    "duration": 20,
    "start_time": "2022-08-16T18:43:00.165Z"
   },
   {
    "duration": 1030,
    "start_time": "2022-08-16T18:48:57.322Z"
   },
   {
    "duration": 79,
    "start_time": "2022-08-16T18:49:17.050Z"
   },
   {
    "duration": 2,
    "start_time": "2022-08-16T18:54:51.532Z"
   },
   {
    "duration": 19,
    "start_time": "2022-08-16T18:58:00.526Z"
   },
   {
    "duration": 16,
    "start_time": "2022-08-16T18:58:15.469Z"
   },
   {
    "duration": 44167,
    "start_time": "2022-08-16T19:13:54.262Z"
   },
   {
    "duration": 302,
    "start_time": "2022-08-16T19:16:09.120Z"
   },
   {
    "duration": 3,
    "start_time": "2022-08-16T19:18:48.897Z"
   },
   {
    "duration": 146,
    "start_time": "2022-08-16T19:18:50.128Z"
   },
   {
    "duration": 2,
    "start_time": "2022-08-16T19:21:13.347Z"
   },
   {
    "duration": 6,
    "start_time": "2022-08-16T19:23:01.771Z"
   },
   {
    "duration": 54368,
    "start_time": "2022-08-16T19:24:43.154Z"
   },
   {
    "duration": 787,
    "start_time": "2022-08-16T19:28:11.843Z"
   },
   {
    "duration": 44,
    "start_time": "2022-08-16T19:28:15.438Z"
   },
   {
    "duration": 304,
    "start_time": "2022-08-16T19:28:20.607Z"
   },
   {
    "duration": 4,
    "start_time": "2022-08-16T19:28:24.606Z"
   },
   {
    "duration": 591,
    "start_time": "2022-08-16T19:28:25.469Z"
   },
   {
    "duration": 4,
    "start_time": "2022-08-16T19:28:51.063Z"
   },
   {
    "duration": 4,
    "start_time": "2022-08-16T19:28:57.846Z"
   },
   {
    "duration": 6997,
    "start_time": "2022-08-16T19:28:58.791Z"
   },
   {
    "duration": 3315,
    "start_time": "2022-08-16T19:29:11.087Z"
   },
   {
    "duration": 57,
    "start_time": "2022-08-16T19:29:18.095Z"
   },
   {
    "duration": 2,
    "start_time": "2022-08-16T19:31:40.455Z"
   },
   {
    "duration": 2,
    "start_time": "2022-08-16T19:31:47.111Z"
   },
   {
    "duration": 6,
    "start_time": "2022-08-16T19:32:01.983Z"
   },
   {
    "duration": 898,
    "start_time": "2022-08-16T19:35:43.345Z"
   },
   {
    "duration": 44569,
    "start_time": "2022-08-16T19:36:19.072Z"
   },
   {
    "duration": 68,
    "start_time": "2022-08-16T19:38:47.994Z"
   },
   {
    "duration": 45008,
    "start_time": "2022-08-16T19:41:22.466Z"
   },
   {
    "duration": 61973,
    "start_time": "2022-08-16T19:44:17.263Z"
   },
   {
    "duration": 790,
    "start_time": "2022-08-16T19:45:25.763Z"
   },
   {
    "duration": 53,
    "start_time": "2022-08-16T19:45:28.315Z"
   },
   {
    "duration": 304,
    "start_time": "2022-08-16T19:45:32.956Z"
   },
   {
    "duration": 5,
    "start_time": "2022-08-16T19:45:40.707Z"
   },
   {
    "duration": 7064,
    "start_time": "2022-08-16T19:45:43.779Z"
   },
   {
    "duration": 3464,
    "start_time": "2022-08-16T19:45:53.436Z"
   },
   {
    "duration": 60,
    "start_time": "2022-08-16T19:45:59.812Z"
   },
   {
    "duration": 3,
    "start_time": "2022-08-16T19:46:03.603Z"
   },
   {
    "duration": 44540,
    "start_time": "2022-08-16T19:46:06.932Z"
   },
   {
    "duration": 6,
    "start_time": "2022-08-16T19:48:16.461Z"
   },
   {
    "duration": 5,
    "start_time": "2022-08-16T19:48:43.797Z"
   },
   {
    "duration": 44583,
    "start_time": "2022-08-16T19:50:15.177Z"
   },
   {
    "duration": 1269,
    "start_time": "2022-08-16T19:57:15.969Z"
   },
   {
    "duration": 57936,
    "start_time": "2022-08-16T19:57:59.958Z"
   },
   {
    "duration": 767,
    "start_time": "2022-08-16T20:05:21.452Z"
   },
   {
    "duration": 45,
    "start_time": "2022-08-16T20:05:24.032Z"
   },
   {
    "duration": 297,
    "start_time": "2022-08-16T20:05:28.049Z"
   },
   {
    "duration": 4,
    "start_time": "2022-08-16T20:05:46.073Z"
   },
   {
    "duration": 7505,
    "start_time": "2022-08-16T20:05:54.882Z"
   },
   {
    "duration": 3460,
    "start_time": "2022-08-16T20:06:06.450Z"
   },
   {
    "duration": 61,
    "start_time": "2022-08-16T20:06:13.833Z"
   },
   {
    "duration": 3,
    "start_time": "2022-08-16T20:06:42.089Z"
   },
   {
    "duration": 3,
    "start_time": "2022-08-16T20:09:16.356Z"
   },
   {
    "duration": 1158,
    "start_time": "2022-08-16T20:10:01.373Z"
   },
   {
    "duration": 3,
    "start_time": "2022-08-16T20:11:04.390Z"
   },
   {
    "duration": 252,
    "start_time": "2022-08-16T20:11:10.398Z"
   },
   {
    "duration": 110,
    "start_time": "2022-08-16T20:16:43.698Z"
   },
   {
    "duration": 56,
    "start_time": "2022-08-16T20:17:02.531Z"
   },
   {
    "duration": 44512,
    "start_time": "2022-08-16T20:17:28.683Z"
   },
   {
    "duration": 4,
    "start_time": "2022-08-16T20:18:40.413Z"
   },
   {
    "duration": 57927,
    "start_time": "2022-08-16T20:22:40.419Z"
   },
   {
    "duration": 828,
    "start_time": "2022-08-16T20:23:45.395Z"
   },
   {
    "duration": 44,
    "start_time": "2022-08-16T20:23:48.936Z"
   },
   {
    "duration": 287,
    "start_time": "2022-08-16T20:23:53.249Z"
   },
   {
    "duration": 4,
    "start_time": "2022-08-16T20:23:59.008Z"
   },
   {
    "duration": 7688,
    "start_time": "2022-08-16T20:24:04.704Z"
   },
   {
    "duration": 3399,
    "start_time": "2022-08-16T20:24:19.567Z"
   },
   {
    "duration": 60,
    "start_time": "2022-08-16T20:24:25.520Z"
   },
   {
    "duration": 339,
    "start_time": "2022-08-16T20:27:23.690Z"
   },
   {
    "duration": 28,
    "start_time": "2022-08-16T20:28:28.387Z"
   },
   {
    "duration": 34,
    "start_time": "2022-08-16T20:30:12.004Z"
   },
   {
    "duration": 61696,
    "start_time": "2022-08-16T20:30:54.892Z"
   },
   {
    "duration": 799,
    "start_time": "2022-08-16T20:32:15.745Z"
   },
   {
    "duration": 48,
    "start_time": "2022-08-16T20:32:17.697Z"
   },
   {
    "duration": 3,
    "start_time": "2022-08-16T20:35:57.212Z"
   },
   {
    "duration": 317,
    "start_time": "2022-08-16T20:36:10.260Z"
   },
   {
    "duration": 111,
    "start_time": "2022-08-16T20:39:26.492Z"
   },
   {
    "duration": 57110,
    "start_time": "2022-08-16T20:40:34.791Z"
   },
   {
    "duration": 859,
    "start_time": "2022-08-16T20:41:51.330Z"
   },
   {
    "duration": 50,
    "start_time": "2022-08-16T20:41:53.588Z"
   },
   {
    "duration": 403,
    "start_time": "2022-08-16T20:42:00.316Z"
   },
   {
    "duration": 4,
    "start_time": "2022-08-16T20:42:05.596Z"
   },
   {
    "duration": 7709,
    "start_time": "2022-08-16T20:42:09.347Z"
   },
   {
    "duration": 3538,
    "start_time": "2022-08-16T20:42:21.076Z"
   },
   {
    "duration": 61,
    "start_time": "2022-08-16T20:42:26.356Z"
   },
   {
    "duration": 3,
    "start_time": "2022-08-16T20:42:33.331Z"
   },
   {
    "duration": 3,
    "start_time": "2022-08-16T20:44:28.990Z"
   },
   {
    "duration": 29,
    "start_time": "2022-08-16T20:44:50.726Z"
   },
   {
    "duration": 3,
    "start_time": "2022-08-16T20:45:41.413Z"
   },
   {
    "duration": 1176,
    "start_time": "2022-08-16T20:46:06.638Z"
   },
   {
    "duration": 1133,
    "start_time": "2022-08-16T20:47:29.007Z"
   },
   {
    "duration": 1405,
    "start_time": "2022-08-16T20:49:11.089Z"
   },
   {
    "duration": 80497,
    "start_time": "2022-08-16T21:02:48.106Z"
   },
   {
    "duration": 778,
    "start_time": "2022-08-16T21:04:13.135Z"
   },
   {
    "duration": 45,
    "start_time": "2022-08-16T21:04:14.774Z"
   },
   {
    "duration": 285,
    "start_time": "2022-08-16T21:04:19.128Z"
   },
   {
    "duration": 4,
    "start_time": "2022-08-16T21:04:23.005Z"
   },
   {
    "duration": 6972,
    "start_time": "2022-08-16T21:04:25.846Z"
   },
   {
    "duration": 3281,
    "start_time": "2022-08-16T21:04:38.949Z"
   },
   {
    "duration": 72,
    "start_time": "2022-08-16T21:04:47.134Z"
   },
   {
    "duration": 3,
    "start_time": "2022-08-16T21:05:51.439Z"
   },
   {
    "duration": 44539,
    "start_time": "2022-08-16T21:08:37.393Z"
   },
   {
    "duration": 9,
    "start_time": "2022-08-16T21:10:01.882Z"
   },
   {
    "duration": 76189,
    "start_time": "2022-08-16T21:12:23.642Z"
   },
   {
    "duration": 1668,
    "start_time": "2022-08-16T21:22:56.329Z"
   },
   {
    "duration": 1073,
    "start_time": "2022-08-16T21:23:32.166Z"
   },
   {
    "duration": 54006,
    "start_time": "2022-08-16T21:24:02.733Z"
   },
   {
    "duration": 788,
    "start_time": "2022-08-16T21:25:00.666Z"
   },
   {
    "duration": 46,
    "start_time": "2022-08-16T21:25:02.159Z"
   },
   {
    "duration": 305,
    "start_time": "2022-08-16T21:25:06.295Z"
   },
   {
    "duration": 4,
    "start_time": "2022-08-16T21:25:09.695Z"
   },
   {
    "duration": 7027,
    "start_time": "2022-08-16T21:25:12.807Z"
   },
   {
    "duration": 3286,
    "start_time": "2022-08-16T21:25:24.599Z"
   },
   {
    "duration": 56,
    "start_time": "2022-08-16T21:25:31.798Z"
   },
   {
    "duration": 2,
    "start_time": "2022-08-16T21:25:33.263Z"
   },
   {
    "duration": 44595,
    "start_time": "2022-08-16T21:25:35.991Z"
   },
   {
    "duration": 9,
    "start_time": "2022-08-16T21:26:25.775Z"
   },
   {
    "duration": 76105,
    "start_time": "2022-08-16T21:27:02.584Z"
   },
   {
    "duration": 4,
    "start_time": "2022-08-16T21:34:07.628Z"
   },
   {
    "duration": 38,
    "start_time": "2022-08-16T21:34:10.039Z"
   },
   {
    "duration": 288,
    "start_time": "2022-08-16T21:34:31.631Z"
   },
   {
    "duration": 279,
    "start_time": "2022-08-16T21:34:41.259Z"
   },
   {
    "duration": 25,
    "start_time": "2022-08-16T21:35:09.669Z"
   },
   {
    "duration": 22,
    "start_time": "2022-08-16T21:38:52.646Z"
   },
   {
    "duration": 66895,
    "start_time": "2022-08-16T21:46:43.264Z"
   },
   {
    "duration": 866,
    "start_time": "2022-08-16T21:47:57.089Z"
   },
   {
    "duration": 46,
    "start_time": "2022-08-16T21:47:59.765Z"
   },
   {
    "duration": 320,
    "start_time": "2022-08-16T21:48:04.589Z"
   },
   {
    "duration": 3,
    "start_time": "2022-08-16T21:48:07.869Z"
   },
   {
    "duration": 6916,
    "start_time": "2022-08-16T21:48:09.052Z"
   },
   {
    "duration": 3319,
    "start_time": "2022-08-16T21:48:22.117Z"
   },
   {
    "duration": 59,
    "start_time": "2022-08-16T21:48:30.684Z"
   },
   {
    "duration": 3,
    "start_time": "2022-08-16T21:48:34.221Z"
   },
   {
    "duration": 51870,
    "start_time": "2022-08-16T21:51:07.355Z"
   },
   {
    "duration": 2028,
    "start_time": "2022-08-16T21:52:07.648Z"
   },
   {
    "duration": 42,
    "start_time": "2022-08-16T21:52:10.447Z"
   },
   {
    "duration": 273,
    "start_time": "2022-08-16T21:52:14.144Z"
   },
   {
    "duration": 5,
    "start_time": "2022-08-16T21:52:16.351Z"
   },
   {
    "duration": 6914,
    "start_time": "2022-08-16T21:52:20.593Z"
   },
   {
    "duration": 3172,
    "start_time": "2022-08-16T21:52:32.145Z"
   },
   {
    "duration": 65,
    "start_time": "2022-08-16T21:52:37.823Z"
   },
   {
    "duration": 2,
    "start_time": "2022-08-16T21:52:40.680Z"
   },
   {
    "duration": 59862,
    "start_time": "2022-08-16T21:53:39.551Z"
   },
   {
    "duration": 2104,
    "start_time": "2022-08-16T21:54:51.239Z"
   },
   {
    "duration": 48,
    "start_time": "2022-08-16T21:54:54.020Z"
   },
   {
    "duration": 295,
    "start_time": "2022-08-16T21:55:00.732Z"
   },
   {
    "duration": 4,
    "start_time": "2022-08-16T21:55:03.285Z"
   },
   {
    "duration": 6872,
    "start_time": "2022-08-16T21:55:07.877Z"
   },
   {
    "duration": 3226,
    "start_time": "2022-08-16T21:55:18.973Z"
   },
   {
    "duration": 64,
    "start_time": "2022-08-16T21:55:22.201Z"
   },
   {
    "duration": 2,
    "start_time": "2022-08-16T21:55:41.117Z"
   },
   {
    "duration": 44563,
    "start_time": "2022-08-16T21:55:46.125Z"
   },
   {
    "duration": 9,
    "start_time": "2022-08-16T21:56:30.690Z"
   },
   {
    "duration": 59805,
    "start_time": "2022-08-17T04:16:34.231Z"
   },
   {
    "duration": 2101,
    "start_time": "2022-08-17T04:17:38.189Z"
   },
   {
    "duration": 44,
    "start_time": "2022-08-17T04:17:42.365Z"
   },
   {
    "duration": 299,
    "start_time": "2022-08-17T04:17:49.444Z"
   },
   {
    "duration": 4,
    "start_time": "2022-08-17T04:17:53.718Z"
   },
   {
    "duration": 7060,
    "start_time": "2022-08-17T04:17:56.237Z"
   },
   {
    "duration": 3297,
    "start_time": "2022-08-17T04:18:05.783Z"
   },
   {
    "duration": 56,
    "start_time": "2022-08-17T04:18:11.461Z"
   },
   {
    "duration": 3,
    "start_time": "2022-08-17T04:18:14.565Z"
   },
   {
    "duration": 44325,
    "start_time": "2022-08-17T04:18:54.790Z"
   },
   {
    "duration": 9,
    "start_time": "2022-08-17T04:19:48.274Z"
   },
   {
    "duration": 62479,
    "start_time": "2022-08-17T04:26:31.935Z"
   },
   {
    "duration": 2020,
    "start_time": "2022-08-17T04:27:43.468Z"
   },
   {
    "duration": 45,
    "start_time": "2022-08-17T04:28:06.444Z"
   },
   {
    "duration": 290,
    "start_time": "2022-08-17T04:28:14.829Z"
   },
   {
    "duration": 4,
    "start_time": "2022-08-17T04:28:19.213Z"
   },
   {
    "duration": 7020,
    "start_time": "2022-08-17T04:28:21.908Z"
   },
   {
    "duration": 3318,
    "start_time": "2022-08-17T04:28:31.421Z"
   },
   {
    "duration": 70,
    "start_time": "2022-08-17T04:28:37.237Z"
   },
   {
    "duration": 2,
    "start_time": "2022-08-17T04:28:38.909Z"
   },
   {
    "duration": 44731,
    "start_time": "2022-08-17T04:28:41.349Z"
   },
   {
    "duration": 9,
    "start_time": "2022-08-17T04:29:27.478Z"
   },
   {
    "duration": 44639,
    "start_time": "2022-08-17T04:30:09.694Z"
   },
   {
    "duration": 11,
    "start_time": "2022-08-17T04:30:56.295Z"
   },
   {
    "duration": 77218,
    "start_time": "2022-08-17T04:31:28.519Z"
   },
   {
    "duration": 74422,
    "start_time": "2022-08-17T04:33:07.144Z"
   },
   {
    "duration": 3,
    "start_time": "2022-08-17T04:34:43.271Z"
   },
   {
    "duration": 37,
    "start_time": "2022-08-17T04:34:44.848Z"
   },
   {
    "duration": 449,
    "start_time": "2022-08-17T04:34:55.376Z"
   },
   {
    "duration": 231,
    "start_time": "2022-08-17T04:51:38.508Z"
   },
   {
    "duration": 49551,
    "start_time": "2022-08-17T04:53:39.433Z"
   },
   {
    "duration": 782,
    "start_time": "2022-08-17T04:54:40.006Z"
   },
   {
    "duration": 43,
    "start_time": "2022-08-17T04:54:42.381Z"
   },
   {
    "duration": 298,
    "start_time": "2022-08-17T04:54:49.021Z"
   },
   {
    "duration": 4,
    "start_time": "2022-08-17T04:54:50.981Z"
   },
   {
    "duration": 7151,
    "start_time": "2022-08-17T04:54:52.085Z"
   },
   {
    "duration": 3435,
    "start_time": "2022-08-17T04:55:01.798Z"
   },
   {
    "duration": 58,
    "start_time": "2022-08-17T04:55:07.806Z"
   },
   {
    "duration": 3,
    "start_time": "2022-08-17T04:55:10.893Z"
   },
   {
    "duration": 95987,
    "start_time": "2022-08-19T12:59:58.461Z"
   },
   {
    "duration": 3509,
    "start_time": "2022-08-19T13:01:46.290Z"
   },
   {
    "duration": 49,
    "start_time": "2022-08-19T13:01:52.442Z"
   },
   {
    "duration": 556,
    "start_time": "2022-08-19T13:02:02.491Z"
   },
   {
    "duration": 4,
    "start_time": "2022-08-19T13:02:06.240Z"
   },
   {
    "duration": 7598,
    "start_time": "2022-08-19T13:02:09.250Z"
   },
   {
    "duration": 3299,
    "start_time": "2022-08-19T13:02:19.499Z"
   },
   {
    "duration": 59,
    "start_time": "2022-08-19T13:02:27.314Z"
   },
   {
    "duration": 3,
    "start_time": "2022-08-19T13:02:29.554Z"
   },
   {
    "duration": 52462,
    "start_time": "2022-08-19T13:15:30.307Z"
   },
   {
    "duration": 10,
    "start_time": "2022-08-19T13:16:25.711Z"
   },
   {
    "duration": 53,
    "start_time": "2022-08-19T13:18:01.555Z"
   },
   {
    "duration": 138841,
    "start_time": "2022-08-19T13:18:26.549Z"
   },
   {
    "duration": 3352,
    "start_time": "2022-08-19T13:21:02.084Z"
   },
   {
    "duration": 52,
    "start_time": "2022-08-19T13:21:17.410Z"
   },
   {
    "duration": 341,
    "start_time": "2022-08-19T13:21:22.217Z"
   },
   {
    "duration": 5,
    "start_time": "2022-08-19T13:21:25.074Z"
   },
   {
    "duration": 7766,
    "start_time": "2022-08-19T13:21:30.922Z"
   },
   {
    "duration": 3324,
    "start_time": "2022-08-19T13:22:18.155Z"
   },
   {
    "duration": 62,
    "start_time": "2022-08-19T13:22:24.123Z"
   },
   {
    "duration": 2,
    "start_time": "2022-08-19T13:22:28.067Z"
   },
   {
    "duration": 4,
    "start_time": "2022-08-19T13:25:13.148Z"
   },
   {
    "duration": 319,
    "start_time": "2022-08-19T13:25:39.709Z"
   },
   {
    "duration": 51,
    "start_time": "2022-08-19T13:27:24.606Z"
   },
   {
    "duration": 85045,
    "start_time": "2022-08-19T13:27:52.318Z"
   },
   {
    "duration": 3206,
    "start_time": "2022-08-19T13:29:21.209Z"
   },
   {
    "duration": 44,
    "start_time": "2022-08-19T13:29:26.412Z"
   },
   {
    "duration": 448,
    "start_time": "2022-08-19T13:29:30.355Z"
   },
   {
    "duration": 5,
    "start_time": "2022-08-19T13:29:32.666Z"
   },
   {
    "duration": 7619,
    "start_time": "2022-08-19T13:29:35.186Z"
   },
   {
    "duration": 3310,
    "start_time": "2022-08-19T13:29:47.008Z"
   },
   {
    "duration": 67,
    "start_time": "2022-08-19T13:29:50.320Z"
   },
   {
    "duration": 3,
    "start_time": "2022-08-19T13:29:51.682Z"
   },
   {
    "duration": 4,
    "start_time": "2022-08-19T13:29:53.178Z"
   },
   {
    "duration": 118388,
    "start_time": "2022-08-19T13:40:14.969Z"
   },
   {
    "duration": 3232,
    "start_time": "2022-08-19T13:42:18.157Z"
   },
   {
    "duration": 55,
    "start_time": "2022-08-19T13:42:27.085Z"
   },
   {
    "duration": 333,
    "start_time": "2022-08-19T13:42:32.342Z"
   },
   {
    "duration": 4,
    "start_time": "2022-08-19T13:42:37.335Z"
   },
   {
    "duration": 8036,
    "start_time": "2022-08-19T13:42:44.526Z"
   },
   {
    "duration": 3320,
    "start_time": "2022-08-19T13:42:56.286Z"
   },
   {
    "duration": 60,
    "start_time": "2022-08-19T13:43:03.638Z"
   },
   {
    "duration": 2,
    "start_time": "2022-08-19T13:43:07.108Z"
   },
   {
    "duration": 4,
    "start_time": "2022-08-19T13:43:08.417Z"
   },
   {
    "duration": 80813,
    "start_time": "2022-08-19T13:54:52.017Z"
   },
   {
    "duration": 3219,
    "start_time": "2022-08-19T13:56:18.418Z"
   },
   {
    "duration": 45,
    "start_time": "2022-08-19T13:56:32.292Z"
   },
   {
    "duration": 356,
    "start_time": "2022-08-19T13:56:38.792Z"
   },
   {
    "duration": 4,
    "start_time": "2022-08-19T13:56:42.618Z"
   },
   {
    "duration": 7748,
    "start_time": "2022-08-19T13:56:45.216Z"
   },
   {
    "duration": 3252,
    "start_time": "2022-08-19T13:57:04.367Z"
   },
   {
    "duration": 58,
    "start_time": "2022-08-19T13:57:09.814Z"
   },
   {
    "duration": 3,
    "start_time": "2022-08-19T13:57:13.239Z"
   },
   {
    "duration": 4,
    "start_time": "2022-08-19T13:57:14.719Z"
   },
   {
    "duration": 102955,
    "start_time": "2022-08-19T13:59:17.079Z"
   },
   {
    "duration": 3299,
    "start_time": "2022-08-19T14:01:00.036Z"
   },
   {
    "duration": 43,
    "start_time": "2022-08-19T14:01:03.337Z"
   },
   {
    "duration": 350,
    "start_time": "2022-08-19T14:01:03.382Z"
   },
   {
    "duration": 11,
    "start_time": "2022-08-19T14:01:03.734Z"
   },
   {
    "duration": 7756,
    "start_time": "2022-08-19T14:01:03.747Z"
   },
   {
    "duration": 3412,
    "start_time": "2022-08-19T14:01:11.505Z"
   },
   {
    "duration": 69,
    "start_time": "2022-08-19T14:01:14.920Z"
   },
   {
    "duration": 9,
    "start_time": "2022-08-19T14:01:14.991Z"
   },
   {
    "duration": 46,
    "start_time": "2022-08-19T14:01:15.003Z"
   },
   {
    "duration": 117852,
    "start_time": "2022-08-19T14:23:24.824Z"
   },
   {
    "duration": 3311,
    "start_time": "2022-08-19T14:25:28.486Z"
   },
   {
    "duration": 45,
    "start_time": "2022-08-19T14:25:33.734Z"
   },
   {
    "duration": 323,
    "start_time": "2022-08-19T14:25:41.123Z"
   },
   {
    "duration": 6,
    "start_time": "2022-08-19T14:25:46.663Z"
   },
   {
    "duration": 7777,
    "start_time": "2022-08-19T14:25:50.308Z"
   },
   {
    "duration": 3355,
    "start_time": "2022-08-19T14:26:06.857Z"
   },
   {
    "duration": 57,
    "start_time": "2022-08-19T14:26:13.742Z"
   },
   {
    "duration": 2,
    "start_time": "2022-08-19T14:26:15.939Z"
   },
   {
    "duration": 4,
    "start_time": "2022-08-19T14:26:19.819Z"
   },
   {
    "duration": 92844,
    "start_time": "2022-08-19T14:49:51.259Z"
   },
   {
    "duration": 3700,
    "start_time": "2022-08-19T14:51:39.644Z"
   },
   {
    "duration": 62,
    "start_time": "2022-08-19T14:51:47.977Z"
   },
   {
    "duration": 382,
    "start_time": "2022-08-19T14:51:52.919Z"
   },
   {
    "duration": 5,
    "start_time": "2022-08-19T14:51:59.343Z"
   },
   {
    "duration": 8866,
    "start_time": "2022-08-19T14:52:03.825Z"
   },
   {
    "duration": 4160,
    "start_time": "2022-08-19T14:52:17.663Z"
   },
   {
    "duration": 81,
    "start_time": "2022-08-19T14:52:24.306Z"
   },
   {
    "duration": 4,
    "start_time": "2022-08-19T14:52:28.030Z"
   },
   {
    "duration": 4,
    "start_time": "2022-08-19T14:52:29.175Z"
   },
   {
    "duration": 57094,
    "start_time": "2022-08-20T04:46:35.262Z"
   },
   {
    "duration": 72984,
    "start_time": "2022-08-20T16:51:15.074Z"
   },
   {
    "duration": 3287,
    "start_time": "2022-08-20T16:52:35.833Z"
   },
   {
    "duration": 39,
    "start_time": "2022-08-20T16:52:43.443Z"
   },
   {
    "duration": 496,
    "start_time": "2022-08-20T16:52:49.874Z"
   },
   {
    "duration": 4,
    "start_time": "2022-08-20T16:52:54.466Z"
   },
   {
    "duration": 7329,
    "start_time": "2022-08-20T16:52:57.170Z"
   },
   {
    "duration": 3263,
    "start_time": "2022-08-20T16:53:08.681Z"
   },
   {
    "duration": 51,
    "start_time": "2022-08-20T16:53:14.849Z"
   },
   {
    "duration": 3,
    "start_time": "2022-08-20T16:53:18.538Z"
   },
   {
    "duration": 4,
    "start_time": "2022-08-20T16:53:19.733Z"
   },
   {
    "duration": 73501,
    "start_time": "2022-08-20T16:54:56.764Z"
   },
   {
    "duration": 2955,
    "start_time": "2022-08-20T16:56:26.718Z"
   },
   {
    "duration": 43,
    "start_time": "2022-08-20T16:56:30.533Z"
   },
   {
    "duration": 354,
    "start_time": "2022-08-20T16:56:35.189Z"
   },
   {
    "duration": 5,
    "start_time": "2022-08-20T16:56:37.333Z"
   },
   {
    "duration": 7566,
    "start_time": "2022-08-20T16:56:40.125Z"
   },
   {
    "duration": 3295,
    "start_time": "2022-08-20T16:56:51.109Z"
   },
   {
    "duration": 78,
    "start_time": "2022-08-20T16:56:57.189Z"
   },
   {
    "duration": 3,
    "start_time": "2022-08-20T16:56:59.636Z"
   },
   {
    "duration": 47875,
    "start_time": "2022-08-20T16:57:05.228Z"
   },
   {
    "duration": 20,
    "start_time": "2022-08-20T16:57:55.788Z"
   },
   {
    "duration": 44848,
    "start_time": "2022-08-24T18:51:06.087Z"
   },
   {
    "duration": 2237,
    "start_time": "2022-08-24T18:55:09.071Z"
   },
   {
    "duration": 41,
    "start_time": "2022-08-24T18:55:15.901Z"
   },
   {
    "duration": 497,
    "start_time": "2022-08-24T18:55:23.100Z"
   },
   {
    "duration": 4,
    "start_time": "2022-08-24T18:55:30.800Z"
   },
   {
    "duration": 7151,
    "start_time": "2022-08-24T18:55:35.989Z"
   },
   {
    "duration": 3083,
    "start_time": "2022-08-24T18:56:13.213Z"
   },
   {
    "duration": 61,
    "start_time": "2022-08-24T18:56:21.924Z"
   },
   {
    "duration": 3,
    "start_time": "2022-08-24T18:56:25.130Z"
   },
   {
    "duration": 3,
    "start_time": "2022-08-24T18:56:27.403Z"
   },
   {
    "duration": 64746,
    "start_time": "2022-08-24T19:09:00.324Z"
   },
   {
    "duration": 2211,
    "start_time": "2022-08-24T19:10:09.117Z"
   },
   {
    "duration": 39,
    "start_time": "2022-08-24T19:10:11.329Z"
   },
   {
    "duration": 273,
    "start_time": "2022-08-24T19:10:25.593Z"
   },
   {
    "duration": 4,
    "start_time": "2022-08-24T19:10:30.739Z"
   },
   {
    "duration": 6837,
    "start_time": "2022-08-24T19:10:34.484Z"
   },
   {
    "duration": 3057,
    "start_time": "2022-08-24T19:10:48.349Z"
   },
   {
    "duration": 79,
    "start_time": "2022-08-24T19:10:55.328Z"
   },
   {
    "duration": 3,
    "start_time": "2022-08-24T19:10:59.530Z"
   },
   {
    "duration": 42671,
    "start_time": "2022-08-24T19:11:04.957Z"
   },
   {
    "duration": 9,
    "start_time": "2022-08-24T19:11:49.335Z"
   },
   {
    "duration": 48892,
    "start_time": "2022-08-24T19:12:32.311Z"
   },
   {
    "duration": 2253,
    "start_time": "2022-08-24T19:13:36.348Z"
   },
   {
    "duration": 41,
    "start_time": "2022-08-24T19:13:42.256Z"
   },
   {
    "duration": 312,
    "start_time": "2022-08-24T19:14:49.805Z"
   },
   {
    "duration": 28,
    "start_time": "2022-08-24T19:15:42.867Z"
   },
   {
    "duration": 65689,
    "start_time": "2022-08-24T19:16:19.510Z"
   },
   {
    "duration": 685,
    "start_time": "2022-08-24T19:17:30.818Z"
   },
   {
    "duration": 41,
    "start_time": "2022-08-24T19:17:33.509Z"
   },
   {
    "duration": 274,
    "start_time": "2022-08-24T19:20:18.812Z"
   },
   {
    "duration": 46861,
    "start_time": "2022-08-24T19:26:40.679Z"
   },
   {
    "duration": 725,
    "start_time": "2022-08-24T19:27:32.038Z"
   },
   {
    "duration": 36,
    "start_time": "2022-08-24T19:27:56.901Z"
   },
   {
    "duration": 3,
    "start_time": "2022-08-24T19:28:48.180Z"
   },
   {
    "duration": 8,
    "start_time": "2022-08-24T19:28:58.351Z"
   },
   {
    "duration": 261,
    "start_time": "2022-08-24T19:29:10.880Z"
   },
   {
    "duration": 5,
    "start_time": "2022-08-24T19:29:16.244Z"
   },
   {
    "duration": 6792,
    "start_time": "2022-08-24T19:29:18.637Z"
   },
   {
    "duration": 3137,
    "start_time": "2022-08-24T19:29:32.701Z"
   },
   {
    "duration": 57,
    "start_time": "2022-08-24T19:29:39.767Z"
   },
   {
    "duration": 3,
    "start_time": "2022-08-24T19:30:46.321Z"
   },
   {
    "duration": 27,
    "start_time": "2022-08-24T19:32:02.290Z"
   },
   {
    "duration": 3,
    "start_time": "2022-08-24T19:32:25.680Z"
   },
   {
    "duration": 1138,
    "start_time": "2022-08-24T19:33:31.010Z"
   },
   {
    "duration": 3,
    "start_time": "2022-08-24T19:34:11.792Z"
   },
   {
    "duration": 810,
    "start_time": "2022-08-24T19:34:41.549Z"
   },
   {
    "duration": 44302,
    "start_time": "2022-08-24T19:43:24.775Z"
   },
   {
    "duration": 792,
    "start_time": "2022-08-24T19:46:12.760Z"
   },
   {
    "duration": 38,
    "start_time": "2022-08-24T19:46:15.444Z"
   },
   {
    "duration": 3,
    "start_time": "2022-08-24T19:46:17.146Z"
   },
   {
    "duration": 8,
    "start_time": "2022-08-24T19:46:19.282Z"
   },
   {
    "duration": 262,
    "start_time": "2022-08-24T19:46:25.734Z"
   },
   {
    "duration": 3974,
    "start_time": "2022-08-24T19:46:58.768Z"
   },
   {
    "duration": 57,
    "start_time": "2022-08-24T19:47:26.991Z"
   },
   {
    "duration": 3,
    "start_time": "2022-08-24T19:47:50.760Z"
   },
   {
    "duration": 42,
    "start_time": "2022-08-24T19:47:54.572Z"
   },
   {
    "duration": 3,
    "start_time": "2022-08-24T19:48:25.948Z"
   },
   {
    "duration": 1073,
    "start_time": "2022-08-24T19:49:13.136Z"
   },
   {
    "duration": 3,
    "start_time": "2022-08-24T19:49:45.055Z"
   },
   {
    "duration": 789,
    "start_time": "2022-08-24T19:50:07.059Z"
   },
   {
    "duration": 1387,
    "start_time": "2022-08-24T19:50:32.149Z"
   },
   {
    "duration": 3868,
    "start_time": "2022-08-24T19:50:33.538Z"
   },
   {
    "duration": 45399,
    "start_time": "2022-08-24T19:52:04.345Z"
   },
   {
    "duration": 735,
    "start_time": "2022-08-24T19:58:32.903Z"
   },
   {
    "duration": 38,
    "start_time": "2022-08-24T19:58:39.415Z"
   },
   {
    "duration": 3,
    "start_time": "2022-08-24T19:58:43.603Z"
   },
   {
    "duration": 8,
    "start_time": "2022-08-24T19:58:46.049Z"
   },
   {
    "duration": 298,
    "start_time": "2022-08-24T19:58:51.720Z"
   },
   {
    "duration": 4,
    "start_time": "2022-08-24T19:58:55.542Z"
   },
   {
    "duration": 6937,
    "start_time": "2022-08-24T19:59:03.751Z"
   },
   {
    "duration": 3261,
    "start_time": "2022-08-24T19:59:19.464Z"
   },
   {
    "duration": 52,
    "start_time": "2022-08-24T19:59:28.679Z"
   },
   {
    "duration": 3,
    "start_time": "2022-08-24T19:59:49.562Z"
   },
   {
    "duration": 43230,
    "start_time": "2022-08-24T20:00:05.058Z"
   },
   {
    "duration": 46007,
    "start_time": "2022-08-24T20:45:11.049Z"
   },
   {
    "duration": 824,
    "start_time": "2022-08-24T20:46:04.792Z"
   },
   {
    "duration": 46,
    "start_time": "2022-08-24T20:46:06.730Z"
   },
   {
    "duration": 4,
    "start_time": "2022-08-24T20:46:16.121Z"
   },
   {
    "duration": 15,
    "start_time": "2022-08-24T20:46:17.130Z"
   },
   {
    "duration": 310,
    "start_time": "2022-08-24T20:46:23.060Z"
   },
   {
    "duration": 5,
    "start_time": "2022-08-24T20:46:28.822Z"
   },
   {
    "duration": 7376,
    "start_time": "2022-08-24T20:46:30.788Z"
   },
   {
    "duration": 3305,
    "start_time": "2022-08-24T20:46:43.219Z"
   },
   {
    "duration": 59,
    "start_time": "2022-08-24T20:46:52.675Z"
   },
   {
    "duration": 3,
    "start_time": "2022-08-24T20:48:48.249Z"
   },
   {
    "duration": 38,
    "start_time": "2022-08-24T20:48:50.001Z"
   },
   {
    "duration": 342,
    "start_time": "2022-08-24T20:49:26.749Z"
   },
   {
    "duration": 19,
    "start_time": "2022-08-24T20:50:03.659Z"
   },
   {
    "duration": 47790,
    "start_time": "2022-08-24T20:50:49.543Z"
   },
   {
    "duration": 724,
    "start_time": "2022-08-24T20:52:03.019Z"
   },
   {
    "duration": 39,
    "start_time": "2022-08-24T20:52:06.038Z"
   },
   {
    "duration": 4,
    "start_time": "2022-08-24T20:52:07.232Z"
   },
   {
    "duration": 9,
    "start_time": "2022-08-24T20:52:09.216Z"
   },
   {
    "duration": 285,
    "start_time": "2022-08-24T20:52:49.692Z"
   },
   {
    "duration": 4,
    "start_time": "2022-08-24T20:52:56.653Z"
   },
   {
    "duration": 7239,
    "start_time": "2022-08-24T20:52:59.293Z"
   },
   {
    "duration": 3377,
    "start_time": "2022-08-24T20:53:52.332Z"
   },
   {
    "duration": 59,
    "start_time": "2022-08-24T20:53:59.493Z"
   },
   {
    "duration": 4,
    "start_time": "2022-08-24T20:54:14.103Z"
   },
   {
    "duration": 4,
    "start_time": "2022-08-24T20:54:17.993Z"
   },
   {
    "duration": 51,
    "start_time": "2022-08-24T20:57:09.333Z"
   },
   {
    "duration": 90983,
    "start_time": "2022-08-24T21:05:57.617Z"
   },
   {
    "duration": 2237,
    "start_time": "2022-08-24T21:07:36.527Z"
   },
   {
    "duration": 36,
    "start_time": "2022-08-24T21:07:41.969Z"
   },
   {
    "duration": 3,
    "start_time": "2022-08-24T21:07:43.317Z"
   },
   {
    "duration": 8,
    "start_time": "2022-08-24T21:07:45.569Z"
   },
   {
    "duration": 296,
    "start_time": "2022-08-24T21:07:50.818Z"
   },
   {
    "duration": 1862,
    "start_time": "2022-08-24T21:08:38.233Z"
   },
   {
    "duration": 5,
    "start_time": "2022-08-24T21:09:09.788Z"
   },
   {
    "duration": 529,
    "start_time": "2022-08-24T21:09:40.238Z"
   },
   {
    "duration": 4,
    "start_time": "2022-08-24T21:10:34.868Z"
   },
   {
    "duration": 42531,
    "start_time": "2022-08-24T21:10:41.168Z"
   },
   {
    "duration": 7,
    "start_time": "2022-08-24T21:11:45.920Z"
   },
   {
    "duration": 3,
    "start_time": "2022-08-24T21:12:03.828Z"
   },
   {
    "duration": 74733,
    "start_time": "2022-08-24T21:15:02.849Z"
   },
   {
    "duration": 8,
    "start_time": "2022-08-24T21:16:52.828Z"
   },
   {
    "duration": 2,
    "start_time": "2022-08-24T21:25:11.668Z"
   },
   {
    "duration": 36,
    "start_time": "2022-08-24T21:25:28.528Z"
   },
   {
    "duration": 409,
    "start_time": "2022-08-24T21:26:29.668Z"
   },
   {
    "duration": 28,
    "start_time": "2022-08-24T21:27:25.868Z"
   },
   {
    "duration": 2,
    "start_time": "2022-08-24T21:36:03.027Z"
   },
   {
    "duration": 36,
    "start_time": "2022-08-24T21:36:48.067Z"
   },
   {
    "duration": 17,
    "start_time": "2022-08-24T21:37:04.367Z"
   },
   {
    "duration": 17,
    "start_time": "2022-08-24T21:38:54.928Z"
   },
   {
    "duration": 4,
    "start_time": "2022-08-24T21:39:03.427Z"
   },
   {
    "duration": 4,
    "start_time": "2022-08-24T21:40:45.407Z"
   },
   {
    "duration": 18,
    "start_time": "2022-08-24T21:41:16.766Z"
   },
   {
    "duration": 3,
    "start_time": "2022-08-24T21:42:00.997Z"
   },
   {
    "duration": 18,
    "start_time": "2022-08-24T21:42:03.067Z"
   },
   {
    "duration": 20,
    "start_time": "2022-08-24T21:42:50.287Z"
   },
   {
    "duration": 44523,
    "start_time": "2022-08-24T21:51:19.875Z"
   },
   {
    "duration": 1900,
    "start_time": "2022-08-24T21:52:43.710Z"
   },
   {
    "duration": 729,
    "start_time": "2022-08-24T21:53:12.950Z"
   },
   {
    "duration": 33,
    "start_time": "2022-08-24T21:53:16.330Z"
   },
   {
    "duration": 3,
    "start_time": "2022-08-24T21:53:19.450Z"
   },
   {
    "duration": 9,
    "start_time": "2022-08-24T21:53:20.550Z"
   },
   {
    "duration": 13,
    "start_time": "2022-08-24T21:53:58.195Z"
   },
   {
    "duration": 314,
    "start_time": "2022-08-24T21:54:18.750Z"
   },
   {
    "duration": 110,
    "start_time": "2022-08-24T21:54:35.689Z"
   },
   {
    "duration": 1832,
    "start_time": "2022-08-24T21:54:54.950Z"
   },
   {
    "duration": 5,
    "start_time": "2022-08-24T21:55:02.550Z"
   },
   {
    "duration": 41396,
    "start_time": "2022-08-24T21:55:12.630Z"
   },
   {
    "duration": 6,
    "start_time": "2022-08-24T21:56:28.549Z"
   },
   {
    "duration": 19,
    "start_time": "2022-08-24T21:56:57.311Z"
   },
   {
    "duration": 3,
    "start_time": "2022-08-24T21:57:58.791Z"
   },
   {
    "duration": 76876,
    "start_time": "2022-08-24T21:58:19.330Z"
   },
   {
    "duration": 20,
    "start_time": "2022-08-24T22:00:07.010Z"
   },
   {
    "duration": 2,
    "start_time": "2022-08-24T22:00:10.250Z"
   },
   {
    "duration": 41,
    "start_time": "2022-08-24T22:00:23.691Z"
   },
   {
    "duration": 19,
    "start_time": "2022-08-24T22:00:33.430Z"
   },
   {
    "duration": 17,
    "start_time": "2022-08-24T22:00:46.710Z"
   },
   {
    "duration": 6,
    "start_time": "2022-08-24T22:01:25.891Z"
   },
   {
    "duration": 22,
    "start_time": "2022-08-24T22:01:48.411Z"
   },
   {
    "duration": 22,
    "start_time": "2022-08-24T22:02:53.331Z"
   },
   {
    "duration": 61,
    "start_time": "2022-08-24T22:04:03.226Z"
   },
   {
    "duration": 4,
    "start_time": "2022-08-24T22:04:33.551Z"
   },
   {
    "duration": 62,
    "start_time": "2022-08-24T22:04:57.211Z"
   },
   {
    "duration": 4,
    "start_time": "2022-08-24T22:05:55.371Z"
   },
   {
    "duration": 3,
    "start_time": "2022-08-24T22:06:46.060Z"
   },
   {
    "duration": 380,
    "start_time": "2022-08-24T22:07:13.752Z"
   },
   {
    "duration": 51587,
    "start_time": "2022-08-25T16:35:45.790Z"
   },
   {
    "duration": 1379,
    "start_time": "2022-08-25T16:44:08.110Z"
   },
   {
    "duration": 2110,
    "start_time": "2022-08-25T16:44:36.380Z"
   },
   {
    "duration": 90,
    "start_time": "2022-08-25T16:44:40.938Z"
   },
   {
    "duration": 3,
    "start_time": "2022-08-25T16:44:44.728Z"
   },
   {
    "duration": 7,
    "start_time": "2022-08-25T16:44:46.688Z"
   },
   {
    "duration": 7,
    "start_time": "2022-08-25T16:45:22.781Z"
   },
   {
    "duration": 105,
    "start_time": "2022-08-25T16:45:24.778Z"
   },
   {
    "duration": 1952,
    "start_time": "2022-08-25T16:47:07.637Z"
   },
   {
    "duration": 4,
    "start_time": "2022-08-25T16:47:11.813Z"
   },
   {
    "duration": 4,
    "start_time": "2022-08-25T16:52:15.389Z"
   },
   {
    "duration": 131,
    "start_time": "2022-08-25T16:52:18.359Z"
   },
   {
    "duration": 3360,
    "start_time": "2022-08-25T16:52:27.339Z"
   },
   {
    "duration": 12,
    "start_time": "2022-08-25T16:53:37.535Z"
   },
   {
    "duration": 1422,
    "start_time": "2022-08-25T16:54:36.070Z"
   },
   {
    "duration": 785,
    "start_time": "2022-08-25T16:54:45.137Z"
   },
   {
    "duration": 87,
    "start_time": "2022-08-25T16:54:46.935Z"
   },
   {
    "duration": 3,
    "start_time": "2022-08-25T16:54:50.185Z"
   },
   {
    "duration": 9,
    "start_time": "2022-08-25T16:54:51.641Z"
   },
   {
    "duration": 8,
    "start_time": "2022-08-25T16:54:58.668Z"
   },
   {
    "duration": 104,
    "start_time": "2022-08-25T16:54:59.820Z"
   },
   {
    "duration": 4351,
    "start_time": "2022-08-25T16:56:51.153Z"
   },
   {
    "duration": 50,
    "start_time": "2022-08-25T16:58:01.068Z"
   },
   {
    "duration": 2142,
    "start_time": "2022-08-25T16:58:30.712Z"
   },
   {
    "duration": 4,
    "start_time": "2022-08-25T16:58:35.370Z"
   },
   {
    "duration": 44151,
    "start_time": "2022-08-25T16:58:39.433Z"
   },
   {
    "duration": 6,
    "start_time": "2022-08-25T16:59:25.812Z"
   },
   {
    "duration": 2,
    "start_time": "2022-08-25T16:59:27.982Z"
   },
   {
    "duration": 76839,
    "start_time": "2022-08-25T16:59:29.511Z"
   },
   {
    "duration": 5,
    "start_time": "2022-08-25T17:00:56.099Z"
   },
   {
    "duration": 2,
    "start_time": "2022-08-25T17:01:53.326Z"
   },
   {
    "duration": 30,
    "start_time": "2022-08-25T17:03:49.513Z"
   },
   {
    "duration": 11,
    "start_time": "2022-08-25T17:05:08.534Z"
   },
   {
    "duration": 6,
    "start_time": "2022-08-25T17:07:06.342Z"
   },
   {
    "duration": 3,
    "start_time": "2022-08-25T17:07:22.053Z"
   },
   {
    "duration": 838,
    "start_time": "2022-08-25T17:07:38.216Z"
   },
   {
    "duration": 4,
    "start_time": "2022-08-25T17:22:41.370Z"
   },
   {
    "duration": 2,
    "start_time": "2022-08-25T17:23:03.395Z"
   },
   {
    "duration": 297,
    "start_time": "2022-08-25T17:23:09.904Z"
   },
   {
    "duration": 41,
    "start_time": "2022-08-25T17:25:52.734Z"
   },
   {
    "duration": 5,
    "start_time": "2022-08-25T17:25:56.361Z"
   },
   {
    "duration": 126,
    "start_time": "2022-08-25T17:26:47.691Z"
   },
   {
    "duration": 1481,
    "start_time": "2022-08-25T17:27:26.709Z"
   },
   {
    "duration": 823,
    "start_time": "2022-08-25T17:27:37.778Z"
   },
   {
    "duration": 99,
    "start_time": "2022-08-25T17:27:39.986Z"
   },
   {
    "duration": 4,
    "start_time": "2022-08-25T17:27:43.337Z"
   },
   {
    "duration": 9,
    "start_time": "2022-08-25T17:27:44.665Z"
   },
   {
    "duration": 11,
    "start_time": "2022-08-25T17:27:49.443Z"
   },
   {
    "duration": 106,
    "start_time": "2022-08-25T17:27:50.672Z"
   },
   {
    "duration": 4404,
    "start_time": "2022-08-25T17:27:58.275Z"
   },
   {
    "duration": 48,
    "start_time": "2022-08-25T17:28:05.583Z"
   },
   {
    "duration": 2083,
    "start_time": "2022-08-25T17:28:07.537Z"
   },
   {
    "duration": 6,
    "start_time": "2022-08-25T17:28:10.838Z"
   },
   {
    "duration": 45470,
    "start_time": "2022-08-25T17:28:12.070Z"
   },
   {
    "duration": 129,
    "start_time": "2022-08-25T17:29:00.970Z"
   },
   {
    "duration": 6,
    "start_time": "2022-08-25T17:29:03.766Z"
   },
   {
    "duration": 3,
    "start_time": "2022-08-25T17:29:05.861Z"
   },
   {
    "duration": 85538,
    "start_time": "2022-08-25T17:29:07.426Z"
   },
   {
    "duration": 6,
    "start_time": "2022-08-25T17:30:38.649Z"
   },
   {
    "duration": 2,
    "start_time": "2022-08-25T17:30:39.868Z"
   },
   {
    "duration": 48,
    "start_time": "2022-08-25T17:30:42.812Z"
   },
   {
    "duration": 4,
    "start_time": "2022-08-25T17:30:43.918Z"
   },
   {
    "duration": 6,
    "start_time": "2022-08-25T17:31:00.262Z"
   },
   {
    "duration": 3,
    "start_time": "2022-08-25T17:31:40.047Z"
   },
   {
    "duration": 14,
    "start_time": "2022-08-25T17:33:31.175Z"
   },
   {
    "duration": 9,
    "start_time": "2022-08-25T17:33:53.508Z"
   },
   {
    "duration": 1533,
    "start_time": "2022-08-25T17:38:15.879Z"
   },
   {
    "duration": 818,
    "start_time": "2022-08-25T17:38:43.912Z"
   },
   {
    "duration": 31,
    "start_time": "2022-08-25T17:38:46.062Z"
   },
   {
    "duration": 4,
    "start_time": "2022-08-25T17:38:48.721Z"
   },
   {
    "duration": 9,
    "start_time": "2022-08-25T17:38:49.591Z"
   },
   {
    "duration": 9,
    "start_time": "2022-08-25T17:38:54.568Z"
   },
   {
    "duration": 106,
    "start_time": "2022-08-25T17:38:55.874Z"
   },
   {
    "duration": 4322,
    "start_time": "2022-08-25T17:38:59.699Z"
   },
   {
    "duration": 58,
    "start_time": "2022-08-25T17:39:07.561Z"
   },
   {
    "duration": 2001,
    "start_time": "2022-08-25T17:39:47.764Z"
   },
   {
    "duration": 6,
    "start_time": "2022-08-25T17:40:02.378Z"
   },
   {
    "duration": 43272,
    "start_time": "2022-08-25T17:41:28.386Z"
   },
   {
    "duration": 6,
    "start_time": "2022-08-25T17:42:34.508Z"
   },
   {
    "duration": 2,
    "start_time": "2022-08-25T17:42:39.223Z"
   },
   {
    "duration": 77542,
    "start_time": "2022-08-25T17:43:15.908Z"
   },
   {
    "duration": 3,
    "start_time": "2022-08-25T17:45:36.134Z"
   },
   {
    "duration": 12,
    "start_time": "2022-08-25T17:46:13.605Z"
   },
   {
    "duration": 134,
    "start_time": "2022-08-25T17:47:07.458Z"
   },
   {
    "duration": 19,
    "start_time": "2022-08-25T17:47:19.686Z"
   },
   {
    "duration": 51,
    "start_time": "2022-08-25T17:48:10.756Z"
   },
   {
    "duration": 10,
    "start_time": "2022-08-25T17:48:32.777Z"
   },
   {
    "duration": 25,
    "start_time": "2022-08-25T17:51:13.280Z"
   },
   {
    "duration": 3,
    "start_time": "2022-08-25T17:51:25.954Z"
   },
   {
    "duration": 10,
    "start_time": "2022-08-25T17:52:06.123Z"
   },
   {
    "duration": 4,
    "start_time": "2022-08-25T17:53:18.312Z"
   },
   {
    "duration": 3,
    "start_time": "2022-08-25T17:54:00.488Z"
   },
   {
    "duration": 3,
    "start_time": "2022-08-25T17:54:18.354Z"
   },
   {
    "duration": 27,
    "start_time": "2022-08-25T17:55:14.503Z"
   },
   {
    "duration": 37,
    "start_time": "2022-08-25T18:04:15.434Z"
   },
   {
    "duration": 4,
    "start_time": "2022-08-25T18:04:16.453Z"
   },
   {
    "duration": 9,
    "start_time": "2022-08-25T18:04:20.704Z"
   },
   {
    "duration": 12,
    "start_time": "2022-08-25T18:05:03.918Z"
   },
   {
    "duration": 290,
    "start_time": "2022-08-25T18:05:32.166Z"
   },
   {
    "duration": 11,
    "start_time": "2022-08-25T18:05:47.123Z"
   },
   {
    "duration": 14,
    "start_time": "2022-08-25T18:06:42.692Z"
   },
   {
    "duration": 4,
    "start_time": "2022-08-25T18:08:33.325Z"
   },
   {
    "duration": 4,
    "start_time": "2022-08-25T18:08:52.875Z"
   },
   {
    "duration": 14,
    "start_time": "2022-08-25T18:09:11.687Z"
   },
   {
    "duration": 9,
    "start_time": "2022-08-25T18:09:17.666Z"
   },
   {
    "duration": 10,
    "start_time": "2022-08-25T18:09:22.459Z"
   },
   {
    "duration": 50799,
    "start_time": "2022-08-25T18:14:24.623Z"
   },
   {
    "duration": 201,
    "start_time": "2022-08-25T18:16:30.647Z"
   },
   {
    "duration": 807,
    "start_time": "2022-08-25T18:16:36.760Z"
   },
   {
    "duration": 37,
    "start_time": "2022-08-25T18:16:40.055Z"
   },
   {
    "duration": 3,
    "start_time": "2022-08-25T18:16:43.235Z"
   },
   {
    "duration": 13,
    "start_time": "2022-08-25T18:16:46.795Z"
   },
   {
    "duration": 9,
    "start_time": "2022-08-25T18:16:52.664Z"
   },
   {
    "duration": 231,
    "start_time": "2022-08-25T18:16:53.784Z"
   },
   {
    "duration": 4047,
    "start_time": "2022-08-25T18:16:57.124Z"
   },
   {
    "duration": 68,
    "start_time": "2022-08-25T18:17:04.459Z"
   },
   {
    "duration": 2052,
    "start_time": "2022-08-25T18:17:06.859Z"
   },
   {
    "duration": 9,
    "start_time": "2022-08-25T18:17:10.645Z"
   },
   {
    "duration": 45778,
    "start_time": "2022-08-25T18:17:12.040Z"
   },
   {
    "duration": 7,
    "start_time": "2022-08-25T18:18:00.085Z"
   },
   {
    "duration": 2,
    "start_time": "2022-08-25T18:18:06.485Z"
   },
   {
    "duration": 81028,
    "start_time": "2022-08-25T18:18:09.427Z"
   },
   {
    "duration": 4,
    "start_time": "2022-08-25T18:19:51.696Z"
   },
   {
    "duration": 18,
    "start_time": "2022-08-25T18:19:53.760Z"
   },
   {
    "duration": 65,
    "start_time": "2022-08-25T18:19:57.040Z"
   },
   {
    "duration": 12,
    "start_time": "2022-08-25T18:19:57.932Z"
   },
   {
    "duration": 41,
    "start_time": "2022-08-25T18:20:02.595Z"
   },
   {
    "duration": 5,
    "start_time": "2022-08-25T18:20:04.729Z"
   },
   {
    "duration": 6,
    "start_time": "2022-08-25T18:20:13.469Z"
   },
   {
    "duration": 4,
    "start_time": "2022-08-25T18:21:05.869Z"
   },
   {
    "duration": 977,
    "start_time": "2022-08-25T18:21:26.553Z"
   },
   {
    "duration": 27,
    "start_time": "2022-08-25T18:21:59.987Z"
   },
   {
    "duration": 3,
    "start_time": "2022-08-25T18:22:01.072Z"
   },
   {
    "duration": 19,
    "start_time": "2022-08-25T18:22:03.997Z"
   },
   {
    "duration": 49756,
    "start_time": "2022-08-25T18:23:32.538Z"
   },
   {
    "duration": 199,
    "start_time": "2022-08-25T18:24:42.612Z"
   },
   {
    "duration": 822,
    "start_time": "2022-08-25T18:24:46.409Z"
   },
   {
    "duration": 27,
    "start_time": "2022-08-25T18:24:48.561Z"
   },
   {
    "duration": 3,
    "start_time": "2022-08-25T18:24:49.713Z"
   },
   {
    "duration": 9,
    "start_time": "2022-08-25T18:24:51.291Z"
   },
   {
    "duration": 7,
    "start_time": "2022-08-25T18:24:54.777Z"
   },
   {
    "duration": 245,
    "start_time": "2022-08-25T18:24:55.936Z"
   },
   {
    "duration": 4232,
    "start_time": "2022-08-25T18:24:58.874Z"
   },
   {
    "duration": 49,
    "start_time": "2022-08-25T18:25:09.662Z"
   },
   {
    "duration": 2066,
    "start_time": "2022-08-25T18:25:11.551Z"
   },
   {
    "duration": 50689,
    "start_time": "2022-08-25T18:33:12.552Z"
   },
   {
    "duration": 146,
    "start_time": "2022-08-25T18:34:11.657Z"
   },
   {
    "duration": 772,
    "start_time": "2022-08-25T18:34:14.494Z"
   },
   {
    "duration": 34,
    "start_time": "2022-08-25T18:34:22.784Z"
   },
   {
    "duration": 3,
    "start_time": "2022-08-25T18:34:24.636Z"
   },
   {
    "duration": 9,
    "start_time": "2022-08-25T18:34:26.870Z"
   },
   {
    "duration": 9,
    "start_time": "2022-08-25T18:34:31.110Z"
   },
   {
    "duration": 237,
    "start_time": "2022-08-25T18:34:31.977Z"
   },
   {
    "duration": 3962,
    "start_time": "2022-08-25T18:34:34.800Z"
   },
   {
    "duration": 48,
    "start_time": "2022-08-25T18:34:41.433Z"
   },
   {
    "duration": 1959,
    "start_time": "2022-08-25T18:34:43.418Z"
   },
   {
    "duration": 7,
    "start_time": "2022-08-25T18:34:46.893Z"
   },
   {
    "duration": 43190,
    "start_time": "2022-08-25T18:34:50.402Z"
   },
   {
    "duration": 6,
    "start_time": "2022-08-25T18:35:38.645Z"
   },
   {
    "duration": 2,
    "start_time": "2022-08-25T18:35:41.892Z"
   },
   {
    "duration": 76433,
    "start_time": "2022-08-25T18:35:43.459Z"
   },
   {
    "duration": 4,
    "start_time": "2022-08-25T18:37:05.996Z"
   },
   {
    "duration": 12,
    "start_time": "2022-08-25T18:37:08.337Z"
   },
   {
    "duration": 51,
    "start_time": "2022-08-25T18:37:11.177Z"
   },
   {
    "duration": 9,
    "start_time": "2022-08-25T18:37:13.299Z"
   },
   {
    "duration": 22,
    "start_time": "2022-08-25T18:37:18.327Z"
   },
   {
    "duration": 3,
    "start_time": "2022-08-25T18:37:19.472Z"
   },
   {
    "duration": 5,
    "start_time": "2022-08-25T18:37:21.655Z"
   },
   {
    "duration": 3,
    "start_time": "2022-08-25T18:37:24.707Z"
   },
   {
    "duration": 343,
    "start_time": "2022-08-25T18:37:26.485Z"
   },
   {
    "duration": 9,
    "start_time": "2022-08-25T18:39:24.312Z"
   },
   {
    "duration": 10,
    "start_time": "2022-08-25T18:41:32.787Z"
   },
   {
    "duration": 3,
    "start_time": "2022-08-25T18:45:12.183Z"
   },
   {
    "duration": 3,
    "start_time": "2022-08-25T18:45:40.099Z"
   },
   {
    "duration": 18,
    "start_time": "2022-08-25T18:48:21.812Z"
   },
   {
    "duration": 1099,
    "start_time": "2022-08-25T18:52:13.186Z"
   },
   {
    "duration": 1469,
    "start_time": "2022-08-25T18:54:18.626Z"
   },
   {
    "duration": 178,
    "start_time": "2022-08-25T18:54:26.931Z"
   },
   {
    "duration": 836,
    "start_time": "2022-08-25T18:54:31.547Z"
   },
   {
    "duration": 29,
    "start_time": "2022-08-25T18:54:38.436Z"
   },
   {
    "duration": 4,
    "start_time": "2022-08-25T18:54:48.795Z"
   },
   {
    "duration": 9,
    "start_time": "2022-08-25T18:54:52.486Z"
   },
   {
    "duration": 8,
    "start_time": "2022-08-25T18:55:03.487Z"
   },
   {
    "duration": 165,
    "start_time": "2022-08-25T18:55:17.879Z"
   },
   {
    "duration": 3992,
    "start_time": "2022-08-25T18:55:36.928Z"
   },
   {
    "duration": 50,
    "start_time": "2022-08-25T18:55:45.236Z"
   },
   {
    "duration": 1974,
    "start_time": "2022-08-25T18:55:58.105Z"
   },
   {
    "duration": 8,
    "start_time": "2022-08-25T18:56:32.547Z"
   },
   {
    "duration": 43130,
    "start_time": "2022-08-25T18:56:51.004Z"
   },
   {
    "duration": 6,
    "start_time": "2022-08-25T18:57:49.395Z"
   },
   {
    "duration": 3,
    "start_time": "2022-08-25T18:58:26.456Z"
   },
   {
    "duration": 76565,
    "start_time": "2022-08-25T18:58:27.540Z"
   },
   {
    "duration": 3,
    "start_time": "2022-08-25T18:59:47.404Z"
   },
   {
    "duration": 12,
    "start_time": "2022-08-25T19:00:13.096Z"
   },
   {
    "duration": 60,
    "start_time": "2022-08-25T19:00:30.069Z"
   },
   {
    "duration": 8,
    "start_time": "2022-08-25T19:00:31.497Z"
   },
   {
    "duration": 23,
    "start_time": "2022-08-25T19:00:38.765Z"
   },
   {
    "duration": 3,
    "start_time": "2022-08-25T19:00:40.465Z"
   },
   {
    "duration": 5,
    "start_time": "2022-08-25T19:00:44.840Z"
   },
   {
    "duration": 2,
    "start_time": "2022-08-25T19:00:57.307Z"
   },
   {
    "duration": 138,
    "start_time": "2022-08-25T19:02:09.086Z"
   },
   {
    "duration": 15,
    "start_time": "2022-08-25T19:22:27.091Z"
   },
   {
    "duration": 1472,
    "start_time": "2022-08-25T19:24:12.831Z"
   },
   {
    "duration": 119,
    "start_time": "2022-08-25T19:24:23.136Z"
   },
   {
    "duration": 860,
    "start_time": "2022-08-25T19:24:25.986Z"
   },
   {
    "duration": 28,
    "start_time": "2022-08-25T19:24:38.625Z"
   },
   {
    "duration": 3,
    "start_time": "2022-08-25T19:24:43.640Z"
   },
   {
    "duration": 8,
    "start_time": "2022-08-25T19:24:47.699Z"
   },
   {
    "duration": 8,
    "start_time": "2022-08-25T19:24:52.345Z"
   },
   {
    "duration": 164,
    "start_time": "2022-08-25T19:24:54.265Z"
   },
   {
    "duration": 4161,
    "start_time": "2022-08-25T19:24:56.630Z"
   },
   {
    "duration": 50,
    "start_time": "2022-08-25T19:25:08.048Z"
   },
   {
    "duration": 2078,
    "start_time": "2022-08-25T19:25:11.248Z"
   },
   {
    "duration": 6,
    "start_time": "2022-08-25T19:25:15.227Z"
   },
   {
    "duration": 43103,
    "start_time": "2022-08-25T19:25:17.794Z"
   },
   {
    "duration": 5,
    "start_time": "2022-08-25T19:26:05.045Z"
   },
   {
    "duration": 2,
    "start_time": "2022-08-25T19:26:07.784Z"
   },
   {
    "duration": 76463,
    "start_time": "2022-08-25T19:26:08.754Z"
   },
   {
    "duration": 3,
    "start_time": "2022-08-25T19:27:28.949Z"
   },
   {
    "duration": 12,
    "start_time": "2022-08-25T19:27:29.895Z"
   },
   {
    "duration": 60,
    "start_time": "2022-08-25T19:27:31.056Z"
   },
   {
    "duration": 8,
    "start_time": "2022-08-25T19:27:33.010Z"
   },
   {
    "duration": 3,
    "start_time": "2022-08-25T19:28:27.936Z"
   },
   {
    "duration": 27,
    "start_time": "2022-08-25T19:29:27.605Z"
   },
   {
    "duration": 3,
    "start_time": "2022-08-25T19:30:03.246Z"
   },
   {
    "duration": 5,
    "start_time": "2022-08-25T19:30:21.598Z"
   },
   {
    "duration": 132,
    "start_time": "2022-08-25T19:31:00.773Z"
   },
   {
    "duration": 3,
    "start_time": "2022-08-25T19:35:57.764Z"
   },
   {
    "duration": 13,
    "start_time": "2022-08-25T19:37:30.014Z"
   },
   {
    "duration": 1402,
    "start_time": "2022-08-25T19:38:23.334Z"
   },
   {
    "duration": 191,
    "start_time": "2022-08-25T19:38:29.065Z"
   },
   {
    "duration": 865,
    "start_time": "2022-08-25T19:38:31.415Z"
   },
   {
    "duration": 30,
    "start_time": "2022-08-25T19:38:34.469Z"
   },
   {
    "duration": 3,
    "start_time": "2022-08-25T19:38:35.764Z"
   },
   {
    "duration": 9,
    "start_time": "2022-08-25T19:38:37.904Z"
   },
   {
    "duration": 8,
    "start_time": "2022-08-25T19:38:41.890Z"
   },
   {
    "duration": 204,
    "start_time": "2022-08-25T19:38:42.784Z"
   },
   {
    "duration": 4254,
    "start_time": "2022-08-25T19:38:46.664Z"
   },
   {
    "duration": 62,
    "start_time": "2022-08-25T19:39:03.419Z"
   },
   {
    "duration": 1986,
    "start_time": "2022-08-25T19:39:06.294Z"
   },
   {
    "duration": 7,
    "start_time": "2022-08-25T19:39:09.399Z"
   },
   {
    "duration": 43651,
    "start_time": "2022-08-25T19:39:12.045Z"
   },
   {
    "duration": 5,
    "start_time": "2022-08-25T19:39:55.698Z"
   },
   {
    "duration": 2,
    "start_time": "2022-08-25T19:40:15.137Z"
   },
   {
    "duration": 78151,
    "start_time": "2022-08-25T19:40:16.873Z"
   },
   {
    "duration": 3,
    "start_time": "2022-08-25T19:41:52.036Z"
   },
   {
    "duration": 11,
    "start_time": "2022-08-25T19:41:52.906Z"
   },
   {
    "duration": 60,
    "start_time": "2022-08-25T19:41:56.680Z"
   },
   {
    "duration": 9,
    "start_time": "2022-08-25T19:41:57.282Z"
   },
   {
    "duration": 21,
    "start_time": "2022-08-25T19:42:09.507Z"
   },
   {
    "duration": 3,
    "start_time": "2022-08-25T19:42:10.478Z"
   },
   {
    "duration": 6,
    "start_time": "2022-08-25T19:42:14.299Z"
   },
   {
    "duration": 125,
    "start_time": "2022-08-25T19:42:21.763Z"
   },
   {
    "duration": 2,
    "start_time": "2022-08-25T19:42:26.808Z"
   },
   {
    "duration": 14,
    "start_time": "2022-08-25T19:42:30.316Z"
   },
   {
    "duration": 1441,
    "start_time": "2022-08-25T19:53:24.226Z"
   },
   {
    "duration": 227,
    "start_time": "2022-08-25T19:53:29.978Z"
   },
   {
    "duration": 919,
    "start_time": "2022-08-25T19:53:32.616Z"
   },
   {
    "duration": 29,
    "start_time": "2022-08-25T19:53:34.626Z"
   },
   {
    "duration": 3,
    "start_time": "2022-08-25T19:53:37.557Z"
   },
   {
    "duration": 8,
    "start_time": "2022-08-25T19:53:38.135Z"
   },
   {
    "duration": 8,
    "start_time": "2022-08-25T19:53:42.174Z"
   },
   {
    "duration": 167,
    "start_time": "2022-08-25T19:53:42.907Z"
   },
   {
    "duration": 4119,
    "start_time": "2022-08-25T19:53:47.938Z"
   },
   {
    "duration": 50,
    "start_time": "2022-08-25T19:53:57.708Z"
   },
   {
    "duration": 2018,
    "start_time": "2022-08-25T19:53:59.679Z"
   },
   {
    "duration": 6,
    "start_time": "2022-08-25T19:54:15.016Z"
   },
   {
    "duration": 43564,
    "start_time": "2022-08-25T19:54:16.067Z"
   },
   {
    "duration": 6,
    "start_time": "2022-08-25T19:55:06.085Z"
   },
   {
    "duration": 3,
    "start_time": "2022-08-25T19:55:08.135Z"
   },
   {
    "duration": 77156,
    "start_time": "2022-08-25T19:55:16.436Z"
   },
   {
    "duration": 199,
    "start_time": "2022-08-25T19:58:39.896Z"
   },
   {
    "duration": 44636,
    "start_time": "2022-08-25T19:58:55.776Z"
   },
   {
    "duration": 1411,
    "start_time": "2022-08-25T20:07:56.228Z"
   },
   {
    "duration": 127,
    "start_time": "2022-08-25T20:08:01.826Z"
   },
   {
    "duration": 977,
    "start_time": "2022-08-25T20:08:04.080Z"
   },
   {
    "duration": 28,
    "start_time": "2022-08-25T20:08:06.356Z"
   },
   {
    "duration": 3,
    "start_time": "2022-08-25T20:08:08.845Z"
   },
   {
    "duration": 9,
    "start_time": "2022-08-25T20:08:09.387Z"
   },
   {
    "duration": 9,
    "start_time": "2022-08-25T20:08:14.143Z"
   },
   {
    "duration": 170,
    "start_time": "2022-08-25T20:08:14.886Z"
   },
   {
    "duration": 4249,
    "start_time": "2022-08-25T20:08:19.485Z"
   },
   {
    "duration": 52,
    "start_time": "2022-08-25T20:08:30.916Z"
   },
   {
    "duration": 1997,
    "start_time": "2022-08-25T20:08:43.358Z"
   },
   {
    "duration": 6,
    "start_time": "2022-08-25T20:09:32.106Z"
   },
   {
    "duration": 315,
    "start_time": "2022-08-25T20:10:55.450Z"
   },
   {
    "duration": 43515,
    "start_time": "2022-08-25T20:11:07.947Z"
   },
   {
    "duration": 6,
    "start_time": "2022-08-25T20:12:20.705Z"
   },
   {
    "duration": 2,
    "start_time": "2022-08-25T20:12:23.166Z"
   },
   {
    "duration": 218,
    "start_time": "2022-08-25T20:12:53.799Z"
   },
   {
    "duration": 77684,
    "start_time": "2022-08-25T20:13:05.741Z"
   },
   {
    "duration": 46190,
    "start_time": "2022-08-25T20:17:39.282Z"
   },
   {
    "duration": 774,
    "start_time": "2022-08-25T20:26:15.032Z"
   },
   {
    "duration": 35,
    "start_time": "2022-08-25T20:26:17.102Z"
   },
   {
    "duration": 3,
    "start_time": "2022-08-25T20:26:18.293Z"
   },
   {
    "duration": 9,
    "start_time": "2022-08-25T20:26:19.182Z"
   },
   {
    "duration": 8,
    "start_time": "2022-08-25T20:28:10.943Z"
   },
   {
    "duration": 319,
    "start_time": "2022-08-25T20:28:11.903Z"
   },
   {
    "duration": 193,
    "start_time": "2022-08-25T20:28:36.487Z"
   },
   {
    "duration": 135,
    "start_time": "2022-08-25T20:28:43.313Z"
   },
   {
    "duration": 4,
    "start_time": "2022-08-25T20:29:01.144Z"
   },
   {
    "duration": 97,
    "start_time": "2022-08-25T20:29:07.259Z"
   },
   {
    "duration": 4166,
    "start_time": "2022-08-25T20:29:11.393Z"
   },
   {
    "duration": 49,
    "start_time": "2022-08-25T20:29:19.646Z"
   },
   {
    "duration": 3,
    "start_time": "2022-08-25T20:30:12.703Z"
   },
   {
    "duration": 23,
    "start_time": "2022-08-25T20:31:12.023Z"
   },
   {
    "duration": 2,
    "start_time": "2022-08-25T20:31:40.545Z"
   },
   {
    "duration": 3,
    "start_time": "2022-08-25T20:31:57.464Z"
   },
   {
    "duration": 3,
    "start_time": "2022-08-25T20:33:12.434Z"
   },
   {
    "duration": 796,
    "start_time": "2022-08-25T20:33:34.060Z"
   },
   {
    "duration": 1441,
    "start_time": "2022-08-25T20:35:48.186Z"
   },
   {
    "duration": 857,
    "start_time": "2022-08-25T20:35:56.047Z"
   },
   {
    "duration": 30,
    "start_time": "2022-08-25T20:36:00.780Z"
   },
   {
    "duration": 4,
    "start_time": "2022-08-25T20:36:04.733Z"
   },
   {
    "duration": 8,
    "start_time": "2022-08-25T20:36:11.778Z"
   },
   {
    "duration": 8,
    "start_time": "2022-08-25T20:36:17.864Z"
   },
   {
    "duration": 171,
    "start_time": "2022-08-25T20:36:20.938Z"
   },
   {
    "duration": 4,
    "start_time": "2022-08-25T20:36:48.269Z"
   },
   {
    "duration": 7746,
    "start_time": "2022-08-25T20:36:50.186Z"
   },
   {
    "duration": 3218,
    "start_time": "2022-08-25T20:37:17.398Z"
   },
   {
    "duration": 56,
    "start_time": "2022-08-25T20:37:27.399Z"
   },
   {
    "duration": 3,
    "start_time": "2022-08-25T20:38:10.969Z"
   },
   {
    "duration": 49500,
    "start_time": "2022-08-25T20:38:52.228Z"
   },
   {
    "duration": 1399,
    "start_time": "2022-08-25T20:42:20.875Z"
   },
   {
    "duration": 197,
    "start_time": "2022-08-25T20:42:30.955Z"
   },
   {
    "duration": 916,
    "start_time": "2022-08-25T20:42:34.183Z"
   },
   {
    "duration": 29,
    "start_time": "2022-08-25T20:42:36.745Z"
   },
   {
    "duration": 3,
    "start_time": "2022-08-25T20:42:37.993Z"
   },
   {
    "duration": 8,
    "start_time": "2022-08-25T20:42:39.164Z"
   },
   {
    "duration": 8,
    "start_time": "2022-08-25T20:42:43.834Z"
   },
   {
    "duration": 171,
    "start_time": "2022-08-25T20:42:44.633Z"
   },
   {
    "duration": 5,
    "start_time": "2022-08-25T20:43:00.637Z"
   },
   {
    "duration": 8079,
    "start_time": "2022-08-25T20:43:01.979Z"
   },
   {
    "duration": 3289,
    "start_time": "2022-08-25T20:43:14.384Z"
   },
   {
    "duration": 48,
    "start_time": "2022-08-25T20:43:21.426Z"
   },
   {
    "duration": 3,
    "start_time": "2022-08-25T20:43:42.786Z"
   },
   {
    "duration": 3,
    "start_time": "2022-08-25T20:43:51.283Z"
   },
   {
    "duration": 51,
    "start_time": "2022-08-25T20:45:43.457Z"
   },
   {
    "duration": 1477,
    "start_time": "2022-08-25T20:50:58.823Z"
   },
   {
    "duration": 236,
    "start_time": "2022-08-25T20:51:06.197Z"
   },
   {
    "duration": 2469,
    "start_time": "2022-08-25T20:51:10.454Z"
   },
   {
    "duration": 26,
    "start_time": "2022-08-25T20:51:19.475Z"
   },
   {
    "duration": 3,
    "start_time": "2022-08-25T20:51:29.388Z"
   },
   {
    "duration": 8,
    "start_time": "2022-08-25T20:51:31.922Z"
   },
   {
    "duration": 8,
    "start_time": "2022-08-25T20:51:50.643Z"
   },
   {
    "duration": 172,
    "start_time": "2022-08-25T20:51:53.683Z"
   },
   {
    "duration": 4,
    "start_time": "2022-08-25T20:57:18.095Z"
   },
   {
    "duration": 7589,
    "start_time": "2022-08-25T20:57:24.585Z"
   },
   {
    "duration": 3290,
    "start_time": "2022-08-25T20:57:50.742Z"
   },
   {
    "duration": 50,
    "start_time": "2022-08-25T20:57:58.074Z"
   },
   {
    "duration": 1320,
    "start_time": "2022-08-25T20:58:28.423Z"
   },
   {
    "duration": 7,
    "start_time": "2022-08-25T20:58:40.504Z"
   },
   {
    "duration": 45156,
    "start_time": "2022-08-25T20:58:46.822Z"
   },
   {
    "duration": 6,
    "start_time": "2022-08-25T20:59:35.982Z"
   },
   {
    "duration": 3,
    "start_time": "2022-08-25T20:59:37.502Z"
   },
   {
    "duration": 1434,
    "start_time": "2022-08-26T05:45:38.108Z"
   },
   {
    "duration": 197,
    "start_time": "2022-08-26T05:45:44.933Z"
   },
   {
    "duration": 865,
    "start_time": "2022-08-26T05:45:47.732Z"
   },
   {
    "duration": 29,
    "start_time": "2022-08-26T05:45:50.147Z"
   },
   {
    "duration": 3,
    "start_time": "2022-08-26T05:45:52.223Z"
   },
   {
    "duration": 8,
    "start_time": "2022-08-26T05:45:54.173Z"
   },
   {
    "duration": 8,
    "start_time": "2022-08-26T05:45:59.927Z"
   },
   {
    "duration": 179,
    "start_time": "2022-08-26T05:46:00.788Z"
   },
   {
    "duration": 3,
    "start_time": "2022-08-26T05:46:09.813Z"
   },
   {
    "duration": 7172,
    "start_time": "2022-08-26T05:46:11.268Z"
   },
   {
    "duration": 3300,
    "start_time": "2022-08-26T05:46:27.987Z"
   },
   {
    "duration": 47,
    "start_time": "2022-08-26T05:46:34.248Z"
   },
   {
    "duration": 2,
    "start_time": "2022-08-26T05:47:15.983Z"
   },
   {
    "duration": 823,
    "start_time": "2022-08-26T05:47:27.407Z"
   },
   {
    "duration": 1490,
    "start_time": "2022-08-26T05:48:59.939Z"
   },
   {
    "duration": 125,
    "start_time": "2022-08-26T05:49:07.949Z"
   },
   {
    "duration": 2217,
    "start_time": "2022-08-26T05:49:09.833Z"
   },
   {
    "duration": 29,
    "start_time": "2022-08-26T05:49:13.703Z"
   },
   {
    "duration": 3,
    "start_time": "2022-08-26T05:49:14.689Z"
   },
   {
    "duration": 9,
    "start_time": "2022-08-26T05:49:15.319Z"
   },
   {
    "duration": 8,
    "start_time": "2022-08-26T05:49:20.268Z"
   },
   {
    "duration": 166,
    "start_time": "2022-08-26T05:49:21.148Z"
   },
   {
    "duration": 5,
    "start_time": "2022-08-26T05:49:31.753Z"
   },
   {
    "duration": 7176,
    "start_time": "2022-08-26T05:49:34.454Z"
   },
   {
    "duration": 3287,
    "start_time": "2022-08-26T05:49:50.218Z"
   },
   {
    "duration": 46,
    "start_time": "2022-08-26T05:49:58.174Z"
   },
   {
    "duration": 3,
    "start_time": "2022-08-26T05:50:11.788Z"
   },
   {
    "duration": 1696,
    "start_time": "2022-08-26T14:23:15.134Z"
   },
   {
    "duration": 227,
    "start_time": "2022-08-26T14:23:21.248Z"
   },
   {
    "duration": 2436,
    "start_time": "2022-08-26T14:23:24.674Z"
   },
   {
    "duration": 27,
    "start_time": "2022-08-26T14:23:28.233Z"
   },
   {
    "duration": 3,
    "start_time": "2022-08-26T14:23:30.944Z"
   },
   {
    "duration": 7,
    "start_time": "2022-08-26T14:23:33.594Z"
   },
   {
    "duration": 8,
    "start_time": "2022-08-26T14:23:39.543Z"
   },
   {
    "duration": 168,
    "start_time": "2022-08-26T14:23:40.525Z"
   },
   {
    "duration": 4,
    "start_time": "2022-08-26T14:23:59.176Z"
   },
   {
    "duration": 7693,
    "start_time": "2022-08-26T14:24:02.553Z"
   },
   {
    "duration": 3281,
    "start_time": "2022-08-26T14:24:13.853Z"
   },
   {
    "duration": 55,
    "start_time": "2022-08-26T14:24:20.494Z"
   },
   {
    "duration": 3,
    "start_time": "2022-08-26T14:26:22.334Z"
   },
   {
    "duration": 46979,
    "start_time": "2022-08-26T14:26:31.254Z"
   },
   {
    "duration": 1523,
    "start_time": "2022-08-26T14:27:45.594Z"
   },
   {
    "duration": 205,
    "start_time": "2022-08-26T14:27:52.241Z"
   },
   {
    "duration": 995,
    "start_time": "2022-08-26T14:27:55.335Z"
   },
   {
    "duration": 39,
    "start_time": "2022-08-26T14:27:58.129Z"
   },
   {
    "duration": 3,
    "start_time": "2022-08-26T14:27:59.665Z"
   },
   {
    "duration": 8,
    "start_time": "2022-08-26T14:28:02.255Z"
   },
   {
    "duration": 11,
    "start_time": "2022-08-26T14:28:05.925Z"
   },
   {
    "duration": 195,
    "start_time": "2022-08-26T14:28:07.356Z"
   },
   {
    "duration": 4,
    "start_time": "2022-08-26T14:28:24.525Z"
   },
   {
    "duration": 7913,
    "start_time": "2022-08-26T14:28:28.439Z"
   },
   {
    "duration": 3298,
    "start_time": "2022-08-26T14:28:56.885Z"
   },
   {
    "duration": 58,
    "start_time": "2022-08-26T14:29:04.196Z"
   },
   {
    "duration": 3,
    "start_time": "2022-08-26T14:29:13.084Z"
   },
   {
    "duration": 3,
    "start_time": "2022-08-26T14:29:17.064Z"
   },
   {
    "duration": 1567,
    "start_time": "2022-08-26T14:31:14.700Z"
   },
   {
    "duration": 226,
    "start_time": "2022-08-26T14:31:21.407Z"
   },
   {
    "duration": 2589,
    "start_time": "2022-08-26T14:31:24.741Z"
   },
   {
    "duration": 30,
    "start_time": "2022-08-26T14:31:30.158Z"
   },
   {
    "duration": 4,
    "start_time": "2022-08-26T14:31:31.877Z"
   },
   {
    "duration": 9,
    "start_time": "2022-08-26T14:31:34.357Z"
   },
   {
    "duration": 9,
    "start_time": "2022-08-26T14:31:39.724Z"
   },
   {
    "duration": 176,
    "start_time": "2022-08-26T14:31:40.487Z"
   },
   {
    "duration": 2170,
    "start_time": "2022-08-26T14:32:06.566Z"
   },
   {
    "duration": 7,
    "start_time": "2022-08-26T14:32:09.687Z"
   },
   {
    "duration": 46571,
    "start_time": "2022-08-26T14:32:30.046Z"
   },
   {
    "duration": 6,
    "start_time": "2022-08-26T14:33:36.365Z"
   },
   {
    "duration": 3,
    "start_time": "2022-08-26T14:33:46.501Z"
   },
   {
    "duration": 144,
    "start_time": "2022-08-26T14:35:07.177Z"
   },
   {
    "duration": 3,
    "start_time": "2022-08-26T14:37:24.068Z"
   },
   {
    "duration": 264,
    "start_time": "2022-08-26T14:37:33.236Z"
   },
   {
    "duration": 3,
    "start_time": "2022-08-26T14:38:46.280Z"
   },
   {
    "duration": 12,
    "start_time": "2022-08-26T14:38:52.278Z"
   },
   {
    "duration": 8,
    "start_time": "2022-08-26T14:40:16.584Z"
   },
   {
    "duration": 3,
    "start_time": "2022-08-26T14:41:47.582Z"
   },
   {
    "duration": 1443,
    "start_time": "2022-08-26T14:43:07.974Z"
   },
   {
    "duration": 211,
    "start_time": "2022-08-26T14:43:13.324Z"
   },
   {
    "duration": 2506,
    "start_time": "2022-08-26T14:43:16.124Z"
   },
   {
    "duration": 30,
    "start_time": "2022-08-26T14:43:19.724Z"
   },
   {
    "duration": 3,
    "start_time": "2022-08-26T14:43:21.124Z"
   },
   {
    "duration": 9,
    "start_time": "2022-08-26T14:43:24.624Z"
   },
   {
    "duration": 8,
    "start_time": "2022-08-26T14:43:28.199Z"
   },
   {
    "duration": 181,
    "start_time": "2022-08-26T14:43:28.963Z"
   },
   {
    "duration": 4,
    "start_time": "2022-08-26T14:43:37.282Z"
   },
   {
    "duration": 7714,
    "start_time": "2022-08-26T14:43:39.899Z"
   },
   {
    "duration": 3,
    "start_time": "2022-08-26T14:45:18.934Z"
   },
   {
    "duration": 607,
    "start_time": "2022-08-26T14:45:21.382Z"
   },
   {
    "duration": 3,
    "start_time": "2022-08-26T14:45:53.201Z"
   },
   {
    "duration": 3,
    "start_time": "2022-08-26T14:46:13.061Z"
   },
   {
    "duration": 452,
    "start_time": "2022-08-26T14:46:17.252Z"
   },
   {
    "duration": 1577,
    "start_time": "2022-08-26T14:46:59.081Z"
   },
   {
    "duration": 227,
    "start_time": "2022-08-26T14:47:04.860Z"
   },
   {
    "duration": 1047,
    "start_time": "2022-08-26T14:47:08.450Z"
   },
   {
    "duration": 37,
    "start_time": "2022-08-26T14:47:11.701Z"
   },
   {
    "duration": 4,
    "start_time": "2022-08-26T14:47:13.836Z"
   },
   {
    "duration": 10,
    "start_time": "2022-08-26T14:47:14.991Z"
   },
   {
    "duration": 11,
    "start_time": "2022-08-26T14:47:19.642Z"
   },
   {
    "duration": 209,
    "start_time": "2022-08-26T14:47:20.370Z"
   },
   {
    "duration": 4,
    "start_time": "2022-08-26T14:47:27.263Z"
   },
   {
    "duration": 8517,
    "start_time": "2022-08-26T14:47:28.873Z"
   },
   {
    "duration": 3360,
    "start_time": "2022-08-26T14:47:49.032Z"
   },
   {
    "duration": 46,
    "start_time": "2022-08-26T14:47:59.540Z"
   },
   {
    "duration": 48667,
    "start_time": "2022-08-26T14:48:10.252Z"
   },
   {
    "duration": 6,
    "start_time": "2022-08-26T14:49:12.301Z"
   },
   {
    "duration": 3,
    "start_time": "2022-08-26T14:49:16.935Z"
   },
   {
    "duration": 1552,
    "start_time": "2022-08-26T14:50:18.581Z"
   },
   {
    "duration": 206,
    "start_time": "2022-08-26T14:50:24.640Z"
   },
   {
    "duration": 2793,
    "start_time": "2022-08-26T14:50:26.639Z"
   },
   {
    "duration": 39,
    "start_time": "2022-08-26T14:50:30.909Z"
   },
   {
    "duration": 7,
    "start_time": "2022-08-26T14:50:32.009Z"
   },
   {
    "duration": 10,
    "start_time": "2022-08-26T14:50:32.936Z"
   },
   {
    "duration": 8,
    "start_time": "2022-08-26T14:50:36.790Z"
   },
   {
    "duration": 187,
    "start_time": "2022-08-26T14:50:37.600Z"
   },
   {
    "duration": 3,
    "start_time": "2022-08-26T14:50:47.691Z"
   },
   {
    "duration": 8355,
    "start_time": "2022-08-26T14:50:49.741Z"
   },
   {
    "duration": 3495,
    "start_time": "2022-08-26T14:51:02.332Z"
   },
   {
    "duration": 62,
    "start_time": "2022-08-26T14:51:08.381Z"
   },
   {
    "duration": 47673,
    "start_time": "2022-08-26T14:51:20.770Z"
   },
   {
    "duration": 6,
    "start_time": "2022-08-26T14:52:29.160Z"
   },
   {
    "duration": 3,
    "start_time": "2022-08-26T14:52:33.527Z"
   },
   {
    "duration": 968,
    "start_time": "2022-08-26T14:53:37.024Z"
   },
   {
    "duration": 3,
    "start_time": "2022-08-26T14:55:18.465Z"
   },
   {
    "duration": 399491,
    "start_time": "2022-08-26T14:55:41.383Z"
   },
   {
    "duration": 5,
    "start_time": "2022-08-26T15:03:09.534Z"
   },
   {
    "duration": 4,
    "start_time": "2022-08-26T15:03:25.584Z"
   },
   {
    "duration": 4,
    "start_time": "2022-08-26T15:04:21.994Z"
   },
   {
    "duration": 3,
    "start_time": "2022-08-26T15:08:24.684Z"
   },
   {
    "duration": 35,
    "start_time": "2022-08-26T15:09:17.501Z"
   },
   {
    "duration": 6,
    "start_time": "2022-08-26T15:09:39.044Z"
   },
   {
    "duration": 4,
    "start_time": "2022-08-26T15:10:24.202Z"
   },
   {
    "duration": 3,
    "start_time": "2022-08-26T15:10:51.363Z"
   },
   {
    "duration": 21,
    "start_time": "2022-08-26T15:11:22.755Z"
   },
   {
    "duration": 6,
    "start_time": "2022-08-26T15:12:08.024Z"
   },
   {
    "duration": 624634,
    "start_time": "2022-08-26T15:12:35.654Z"
   },
   {
    "duration": 40,
    "start_time": "2022-08-26T15:26:37.436Z"
   },
   {
    "duration": 582476,
    "start_time": "2022-08-26T15:26:59.003Z"
   },
   {
    "duration": 4,
    "start_time": "2022-08-26T15:37:34.953Z"
   },
   {
    "duration": 561884,
    "start_time": "2022-08-26T15:37:42.673Z"
   },
   {
    "duration": 4,
    "start_time": "2022-08-26T15:48:20.595Z"
   },
   {
    "duration": 55701,
    "start_time": "2022-08-26T15:48:59.434Z"
   },
   {
    "duration": 17,
    "start_time": "2022-08-26T15:50:31.974Z"
   },
   {
    "duration": 1208,
    "start_time": "2022-08-26T16:30:58.457Z"
   },
   {
    "duration": 1602,
    "start_time": "2022-08-26T16:31:41.536Z"
   },
   {
    "duration": 959,
    "start_time": "2022-08-26T16:33:21.649Z"
   },
   {
    "duration": 112,
    "start_time": "2022-08-26T16:33:24.439Z"
   },
   {
    "duration": 6,
    "start_time": "2022-08-26T16:33:29.307Z"
   },
   {
    "duration": 9,
    "start_time": "2022-08-26T16:33:30.676Z"
   },
   {
    "duration": 11,
    "start_time": "2022-08-26T16:34:14.697Z"
   },
   {
    "duration": 119,
    "start_time": "2022-08-26T16:35:18.886Z"
   },
   {
    "duration": 4304,
    "start_time": "2022-08-26T16:36:13.242Z"
   },
   {
    "duration": 48,
    "start_time": "2022-08-26T16:36:29.748Z"
   },
   {
    "duration": 2287,
    "start_time": "2022-08-26T16:37:55.557Z"
   },
   {
    "duration": 7,
    "start_time": "2022-08-26T16:38:08.264Z"
   },
   {
    "duration": 51434,
    "start_time": "2022-08-26T16:38:38.498Z"
   },
   {
    "duration": 22,
    "start_time": "2022-08-26T16:39:44.707Z"
   },
   {
    "duration": 2,
    "start_time": "2022-08-26T16:40:09.534Z"
   },
   {
    "duration": 82647,
    "start_time": "2022-08-26T16:40:48.667Z"
   },
   {
    "duration": 6,
    "start_time": "2022-08-26T16:42:50.586Z"
   },
   {
    "duration": 89554,
    "start_time": "2022-08-26T16:43:44.027Z"
   },
   {
    "duration": 8,
    "start_time": "2022-08-26T16:45:17.828Z"
   },
   {
    "duration": 1511,
    "start_time": "2022-08-26T16:48:57.367Z"
   },
   {
    "duration": 969,
    "start_time": "2022-08-26T16:49:01.388Z"
   },
   {
    "duration": 104,
    "start_time": "2022-08-26T16:49:03.978Z"
   },
   {
    "duration": 3,
    "start_time": "2022-08-26T16:49:05.489Z"
   },
   {
    "duration": 21,
    "start_time": "2022-08-26T16:49:06.867Z"
   },
   {
    "duration": 8,
    "start_time": "2022-08-26T16:49:09.839Z"
   },
   {
    "duration": 118,
    "start_time": "2022-08-26T16:49:44.277Z"
   },
   {
    "duration": 4507,
    "start_time": "2022-08-26T16:49:46.522Z"
   },
   {
    "duration": 92,
    "start_time": "2022-08-26T16:49:52.788Z"
   },
   {
    "duration": 3,
    "start_time": "2022-08-26T16:51:42.866Z"
   },
   {
    "duration": 2,
    "start_time": "2022-08-26T16:52:15.274Z"
   },
   {
    "duration": 3,
    "start_time": "2022-08-26T16:52:47.406Z"
   },
   {
    "duration": 3,
    "start_time": "2022-08-26T16:55:03.747Z"
   },
   {
    "duration": 8961,
    "start_time": "2022-08-26T16:55:48.243Z"
   },
   {
    "duration": 53650,
    "start_time": "2022-08-26T16:57:42.234Z"
   },
   {
    "duration": 9,
    "start_time": "2022-08-26T16:58:38.565Z"
   },
   {
    "duration": 2,
    "start_time": "2022-08-26T16:59:36.355Z"
   },
   {
    "duration": 93337,
    "start_time": "2022-08-26T17:00:22.156Z"
   },
   {
    "duration": 5,
    "start_time": "2022-08-26T17:02:53.750Z"
   },
   {
    "duration": 9,
    "start_time": "2022-08-26T17:03:14.940Z"
   },
   {
    "duration": 3,
    "start_time": "2022-08-26T17:05:25.182Z"
   },
   {
    "duration": 3,
    "start_time": "2022-08-26T17:06:45.096Z"
   },
   {
    "duration": 159,
    "start_time": "2022-08-26T17:07:27.533Z"
   },
   {
    "duration": 22,
    "start_time": "2022-08-26T17:07:44.978Z"
   },
   {
    "duration": 2,
    "start_time": "2022-08-26T17:09:11.060Z"
   },
   {
    "duration": 3,
    "start_time": "2022-08-26T17:09:30.384Z"
   },
   {
    "duration": 7,
    "start_time": "2022-08-26T17:11:23.467Z"
   },
   {
    "duration": 9,
    "start_time": "2022-08-26T17:14:45.332Z"
   },
   {
    "duration": 6,
    "start_time": "2022-08-26T17:15:08.631Z"
   },
   {
    "duration": 1655329,
    "start_time": "2022-08-26T17:15:34.742Z"
   },
   {
    "duration": 4,
    "start_time": "2022-08-26T17:43:10.073Z"
   },
   {
    "duration": 2,
    "start_time": "2022-08-26T17:44:38.573Z"
   },
   {
    "duration": 11,
    "start_time": "2022-08-26T17:44:39.030Z"
   },
   {
    "duration": 3,
    "start_time": "2022-08-26T17:44:39.553Z"
   },
   {
    "duration": 3,
    "start_time": "2022-08-26T17:44:40.199Z"
   },
   {
    "duration": 2,
    "start_time": "2022-08-26T17:49:41.090Z"
   },
   {
    "duration": 2,
    "start_time": "2022-08-26T17:49:42.103Z"
   },
   {
    "duration": 612150,
    "start_time": "2022-08-26T17:52:32.149Z"
   },
   {
    "duration": 564359,
    "start_time": "2022-08-26T18:03:06.898Z"
   },
   {
    "duration": 59436,
    "start_time": "2022-08-26T18:18:42.829Z"
   },
   {
    "duration": 86,
    "start_time": "2022-08-26T18:19:42.268Z"
   },
   {
    "duration": 3627376,
    "start_time": "2022-08-26T18:20:40.792Z"
   },
   {
    "duration": 992062,
    "start_time": "2022-08-26T19:31:57.679Z"
   },
   {
    "duration": 4,
    "start_time": "2022-08-26T19:49:44.099Z"
   },
   {
    "duration": 133468,
    "start_time": "2022-08-26T19:49:59.658Z"
   },
   {
    "duration": 31439,
    "start_time": "2022-08-26T19:53:01.939Z"
   },
   {
    "duration": 93,
    "start_time": "2022-08-27T09:54:53.802Z"
   },
   {
    "duration": 77,
    "start_time": "2022-08-27T09:56:46.773Z"
   }
  ],
  "kernelspec": {
   "display_name": "Python 3 (ipykernel)",
   "language": "python",
   "name": "python3"
  },
  "language_info": {
   "codemirror_mode": {
    "name": "ipython",
    "version": 3
   },
   "file_extension": ".py",
   "mimetype": "text/x-python",
   "name": "python",
   "nbconvert_exporter": "python",
   "pygments_lexer": "ipython3",
   "version": "3.9.12"
  },
  "toc": {
   "base_numbering": 1,
   "nav_menu": {},
   "number_sections": true,
   "sideBar": true,
   "skip_h1_title": true,
   "title_cell": "Содержание",
   "title_sidebar": "Contents",
   "toc_cell": true,
   "toc_position": {
    "height": "calc(100% - 180px)",
    "left": "10px",
    "top": "150px",
    "width": "302.391px"
   },
   "toc_section_display": true,
   "toc_window_display": false
  }
 },
 "nbformat": 4,
 "nbformat_minor": 2
}
